{
 "cells": [
  {
   "cell_type": "markdown",
   "metadata": {},
   "source": [
    "# Herramientas python para ciencia de los datos"
   ]
  },
  {
   "cell_type": "markdown",
   "metadata": {},
   "source": [
    "## Introducción a Numpy\n",
    "\n",
    "Los ejemplos y la presentación que sigue está tomada del capítulo 4 del libro:\n",
    "\n",
    "[*Python for Data Analysis*](https://wesmckinney.com/pages/book.html)  \n",
    "**Wes McKinney**  \n",
    "O'Reilly 2017\n",
    "\n",
    "Github con el material del libro: [Github](https://github.com/wesm/pydata-book)"
   ]
  },
  {
   "cell_type": "code",
   "execution_count": 1,
   "metadata": {},
   "outputs": [],
   "source": [
    "import numpy as np\n",
    "np.random.seed(12345)\n",
    "import matplotlib.pyplot as plt\n",
    "plt.rc('figure', figsize=(10, 6))\n",
    "np.set_printoptions(precision=4, suppress=True)"
   ]
  },
  {
   "cell_type": "markdown",
   "metadata": {},
   "source": [
    "Numpy es quizás el paquete de computación numérica más impprtante de Python. Implementa arrays (matrices) multidimensionales de manera muy eficiente, con numerosas funcionalidades optimizadas sobre dicha estructura de datos. \n",
    "\n",
    "Es muy común en la comunidad python usar el alias `np` cundo importamos Numpy:"
   ]
  },
  {
   "cell_type": "code",
   "execution_count": 2,
   "metadata": {},
   "outputs": [],
   "source": [
    "import numpy as np"
   ]
  },
  {
   "cell_type": "markdown",
   "metadata": {},
   "source": [
    "Aunque en principio las listas de python podrían servir para representar array de varias dimensiones, la eficiencia de numpy es mucho mejor, al estar construido sobre una biblioteca de rutinas en lenguaje C. Además muchas de las operaciones numpy que actúan sobre todo el array, están optimizadas y permiten evitar los bucles `for`de python, que actúan más lentamente.\n",
    "\n",
    "Lo que sigue es un ejemplo de un array de numpy unidimensional con un millón de componentes, y el análogo como lista python. "
   ]
  },
  {
   "cell_type": "code",
   "execution_count": 3,
   "metadata": {},
   "outputs": [],
   "source": [
    "arr1 = np.arange(1000000)\n",
    "list1 = list(range(1000000))"
   ]
  },
  {
   "cell_type": "markdown",
   "metadata": {},
   "source": [
    "Vamos a obtener el array resultante de multiplicar por 2 cada componente, y veamos el tiempo de CPU que se emplea. Nótese que en el caso de numpy, dicha operación se especifica simplemente como \"multiplicar por 2\" el array. En el caso de las listas, tenemos que usar un bucle `for` para la misma operación. Obsérvese la gran diferencia en el tiempo de ejecución:  "
   ]
  },
  {
   "cell_type": "code",
   "execution_count": 4,
   "metadata": {},
   "outputs": [
    {
     "name": "stdout",
     "output_type": "stream",
     "text": [
      "CPU times: user 6.41 ms, sys: 6.11 ms, total: 12.5 ms\n",
      "Wall time: 11.4 ms\n",
      "CPU times: user 180 ms, sys: 49.5 ms, total: 229 ms\n",
      "Wall time: 236 ms\n"
     ]
    }
   ],
   "source": [
    "%time for _ in range(10): arr2 = arr1 * 2\n",
    "%time for _ in range(10): list2 = [x * 2 for x in list1]"
   ]
  },
  {
   "cell_type": "markdown",
   "metadata": {},
   "source": [
    "## Arrays de Numpy"
   ]
  },
  {
   "cell_type": "markdown",
   "metadata": {},
   "source": [
    "La estructura de datos principal de numpy es el *array n-dimensional*. Como hemos dicho, numpy nos permite operar sobre los arrays en su totalidad,  especificando las operaciones como si lo hiciéramos con las componentes individuales. "
   ]
  },
  {
   "cell_type": "markdown",
   "metadata": {},
   "source": [
    "Lo que sigue genera un array de dos dimensiones, con dos filas y tres columnas, con numeros aleatorios (obtenidos como muestras de una distribución normal de media 0 y desviación típica 1)."
   ]
  },
  {
   "cell_type": "code",
   "execution_count": 5,
   "metadata": {},
   "outputs": [
    {
     "data": {
      "text/plain": [
       "array([[-0.2047,  0.4789, -0.5194],\n",
       "       [-0.5557,  1.9658,  1.3934]])"
      ]
     },
     "execution_count": 5,
     "metadata": {},
     "output_type": "execute_result"
    }
   ],
   "source": [
    "data = np.random.randn(2, 3)\n",
    "data"
   ]
  },
  {
   "cell_type": "markdown",
   "metadata": {},
   "source": [
    "Podemos por ejemplo obtener el array resultante de multiplicar cada componente del array por 10:"
   ]
  },
  {
   "cell_type": "code",
   "execution_count": 6,
   "metadata": {},
   "outputs": [
    {
     "data": {
      "text/plain": [
       "array([[-2.0471,  4.7894, -5.1944],\n",
       "       [-5.5573, 19.6578, 13.9341]])"
      ]
     },
     "execution_count": 6,
     "metadata": {},
     "output_type": "execute_result"
    }
   ],
   "source": [
    "data * 10"
   ]
  },
  {
   "cell_type": "markdown",
   "metadata": {},
   "source": [
    "O la suma de cada componente consigo mismo:"
   ]
  },
  {
   "cell_type": "code",
   "execution_count": 7,
   "metadata": {},
   "outputs": [
    {
     "data": {
      "text/plain": [
       "array([[-0.4094,  0.9579, -1.0389],\n",
       "       [-1.1115,  3.9316,  2.7868]])"
      ]
     },
     "execution_count": 7,
     "metadata": {},
     "output_type": "execute_result"
    }
   ],
   "source": [
    "data + data"
   ]
  },
  {
   "cell_type": "markdown",
   "metadata": {},
   "source": [
    "Nótese que las operaciones anteriores no cambian el array sobre el que operan:"
   ]
  },
  {
   "cell_type": "code",
   "execution_count": 8,
   "metadata": {},
   "outputs": [
    {
     "data": {
      "text/plain": [
       "array([[-0.2047,  0.4789, -0.5194],\n",
       "       [-0.5557,  1.9658,  1.3934]])"
      ]
     },
     "execution_count": 8,
     "metadata": {},
     "output_type": "execute_result"
    }
   ],
   "source": [
    "data"
   ]
  },
  {
   "cell_type": "markdown",
   "metadata": {},
   "source": [
    "Los arrays de numpy deben ser homogéneos, es decir todas sus componentes del mismo tipo. El tipo de los elementos de un array lo obtenemos con `dtype`: "
   ]
  },
  {
   "cell_type": "code",
   "execution_count": 9,
   "metadata": {},
   "outputs": [
    {
     "data": {
      "text/plain": [
       "dtype('float64')"
      ]
     },
     "execution_count": 9,
     "metadata": {},
     "output_type": "execute_result"
    }
   ],
   "source": [
    "data.dtype"
   ]
  },
  {
   "cell_type": "markdown",
   "metadata": {},
   "source": [
    "El método `ndim` nos da el número de dimensiones, y el método `shape` nos da el tamaño de cada dimensión, en forma de tupla. \n",
    "\n",
    "En este caso, tenemos que `data` es un array bidimensional, con 2 \"filas\" y 3 \"columnas\":"
   ]
  },
  {
   "cell_type": "code",
   "execution_count": 10,
   "metadata": {},
   "outputs": [
    {
     "name": "stdout",
     "output_type": "stream",
     "text": [
      "2\n",
      "(2, 3)\n"
     ]
    }
   ],
   "source": [
    "print(data.ndim)\n",
    "print(data.shape)\n"
   ]
  },
  {
   "cell_type": "markdown",
   "metadata": {},
   "source": [
    "En la terminología de numpy, cada una de las dimensiones se denominan \"ejes\" (*axis*), y se numeran consecutivamente desde 0. Por ejemplo, en un array bidimensional, el eje 0 (*axis=0*) corresponde a las filas y el eje 1 corresponde a las columnas (*axis=1*). "
   ]
  },
  {
   "cell_type": "markdown",
   "metadata": {},
   "source": [
    "### Creación de arrays"
   ]
  },
  {
   "cell_type": "markdown",
   "metadata": {},
   "source": [
    "La manera más fácil de crear arrays es mediante el método `np.array`. Basta con aplicarlo a cualquier dato python de tipo secuencia que sea susceptible de transformarse en un array. Por ejemplo, una lista de números se transforma en un array unidimensional: "
   ]
  },
  {
   "cell_type": "code",
   "execution_count": 11,
   "metadata": {},
   "outputs": [
    {
     "data": {
      "text/plain": [
       "array([6. , 7.5, 8. , 0. , 1. ])"
      ]
     },
     "execution_count": 11,
     "metadata": {},
     "output_type": "execute_result"
    }
   ],
   "source": [
    "data1 = [6, 7.5, 8, 0, 1]\n",
    "arr1 = np.array(data1)\n",
    "arr1"
   ]
  },
  {
   "cell_type": "markdown",
   "metadata": {},
   "source": [
    "Si le pasamos listas anidadas con una estructura correcta, podemos obtener el correspondiente array bidimensional: "
   ]
  },
  {
   "cell_type": "code",
   "execution_count": 12,
   "metadata": {},
   "outputs": [
    {
     "data": {
      "text/plain": [
       "array([[1, 2, 3, 4],\n",
       "       [5, 6, 7, 8]])"
      ]
     },
     "execution_count": 12,
     "metadata": {},
     "output_type": "execute_result"
    }
   ],
   "source": [
    "data2 = [[1, 2, 3, 4], [5, 6, 7, 8]]\n",
    "arr2 = np.array(data2)\n",
    "arr2"
   ]
  },
  {
   "cell_type": "markdown",
   "metadata": {},
   "source": [
    "Hay otras maneras de crear arrays. Damos a continuación solo algunos ejemplos:"
   ]
  },
  {
   "cell_type": "code",
   "execution_count": 13,
   "metadata": {},
   "outputs": [
    {
     "data": {
      "text/plain": [
       "array([0., 0., 0., 0., 0., 0., 0., 0., 0., 0.])"
      ]
     },
     "execution_count": 13,
     "metadata": {},
     "output_type": "execute_result"
    }
   ],
   "source": [
    "np.zeros(10)\n"
   ]
  },
  {
   "cell_type": "code",
   "execution_count": 14,
   "metadata": {},
   "outputs": [
    {
     "data": {
      "text/plain": [
       "array([[1., 1., 1., 1., 1., 1.],\n",
       "       [1., 1., 1., 1., 1., 1.],\n",
       "       [1., 1., 1., 1., 1., 1.]])"
      ]
     },
     "execution_count": 14,
     "metadata": {},
     "output_type": "execute_result"
    }
   ],
   "source": [
    "np.ones((3, 6))"
   ]
  },
  {
   "cell_type": "code",
   "execution_count": 15,
   "metadata": {},
   "outputs": [
    {
     "data": {
      "text/plain": [
       "array([ 0,  1,  2,  3,  4,  5,  6,  7,  8,  9, 10, 11, 12, 13, 14, 15, 16,\n",
       "       17, 18, 19])"
      ]
     },
     "execution_count": 15,
     "metadata": {},
     "output_type": "execute_result"
    }
   ],
   "source": [
    "np.arange(20)"
   ]
  },
  {
   "cell_type": "code",
   "execution_count": 16,
   "metadata": {},
   "outputs": [
    {
     "data": {
      "text/plain": [
       "array([[1., 0., 0., 0., 0., 0., 0.],\n",
       "       [0., 1., 0., 0., 0., 0., 0.],\n",
       "       [0., 0., 1., 0., 0., 0., 0.],\n",
       "       [0., 0., 0., 1., 0., 0., 0.],\n",
       "       [0., 0., 0., 0., 1., 0., 0.],\n",
       "       [0., 0., 0., 0., 0., 1., 0.],\n",
       "       [0., 0., 0., 0., 0., 0., 1.]])"
      ]
     },
     "execution_count": 16,
     "metadata": {},
     "output_type": "execute_result"
    }
   ],
   "source": [
    "np.eye(7)"
   ]
  },
  {
   "cell_type": "markdown",
   "metadata": {},
   "source": [
    "Podemos usar también `reshape` para transformar entre distintas dimensiones. Por ejemplo, un uso típico es crear un array bidimensional a partir de uno unidimensional:"
   ]
  },
  {
   "cell_type": "code",
   "execution_count": 17,
   "metadata": {},
   "outputs": [
    {
     "data": {
      "text/plain": [
       "(array([ 0,  1,  2,  3,  4,  5,  6,  7,  8,  9, 10, 11]),\n",
       " array([[ 0,  1,  2,  3],\n",
       "        [ 4,  5,  6,  7],\n",
       "        [ 8,  9, 10, 11]]))"
      ]
     },
     "execution_count": 17,
     "metadata": {},
     "output_type": "execute_result"
    }
   ],
   "source": [
    "L=np.arange(12)\n",
    "M=L.reshape(3,4) # también puedes poner  M=L.reshape(3,-1)\n",
    "L,M"
   ]
  },
  {
   "cell_type": "markdown",
   "metadata": {},
   "source": [
    "Hasta ahora sólo hemos visto ejemplos de arrays unidimensionales y bidimensionales. Estas son las dimensiones más frecuentes, pero numpy soporta arrays con cualquier número finito de dimensiones. Por ejemplo, aquí vemos un array de tres dimensiones:"
   ]
  },
  {
   "cell_type": "code",
   "execution_count": 18,
   "metadata": {},
   "outputs": [
    {
     "data": {
      "text/plain": [
       "array([[[0., 0.],\n",
       "        [0., 0.],\n",
       "        [0., 0.]],\n",
       "\n",
       "       [[0., 0.],\n",
       "        [0., 0.],\n",
       "        [0., 0.]]])"
      ]
     },
     "execution_count": 18,
     "metadata": {},
     "output_type": "execute_result"
    }
   ],
   "source": [
    "np.zeros((2, 3, 2))"
   ]
  },
  {
   "cell_type": "markdown",
   "metadata": {},
   "source": [
    "### Tipos de datos en las componentes de un array (*dtype*)"
   ]
  },
  {
   "cell_type": "markdown",
   "metadata": {},
   "source": [
    "El tipo de dato de las componentes de un array está implícito cuando se crea, pero podemos especificarlo: "
   ]
  },
  {
   "cell_type": "code",
   "execution_count": 19,
   "metadata": {},
   "outputs": [
    {
     "name": "stdout",
     "output_type": "stream",
     "text": [
      "float64\n",
      "int32\n"
     ]
    }
   ],
   "source": [
    "arr1 = np.array([1, 2, 3], dtype=np.float64)\n",
    "arr2 = np.array([1, 2, 3], dtype=np.int32)\n",
    "print(arr1.dtype)\n",
    "print(arr2.dtype)"
   ]
  },
  {
   "cell_type": "markdown",
   "metadata": {},
   "source": [
    "Podemos incluso convertir el `dtype` de un array que ya se ha creado, usando el método `astype`. En el ejemplo que sigue, a partir de un array de enteros, obtenemos uno de números de coma flotante:"
   ]
  },
  {
   "cell_type": "code",
   "execution_count": 20,
   "metadata": {},
   "outputs": [
    {
     "data": {
      "text/plain": [
       "dtype('int64')"
      ]
     },
     "execution_count": 20,
     "metadata": {},
     "output_type": "execute_result"
    }
   ],
   "source": [
    "arr = np.array([1, 2, 3, 4, 5])\n",
    "arr.dtype"
   ]
  },
  {
   "cell_type": "code",
   "execution_count": 21,
   "metadata": {},
   "outputs": [
    {
     "data": {
      "text/plain": [
       "array([1., 2., 3., 4., 5.])"
      ]
     },
     "execution_count": 21,
     "metadata": {},
     "output_type": "execute_result"
    }
   ],
   "source": [
    "float_arr = arr.astype(np.float64)\n",
    "float_arr.dtype\n",
    "float_arr"
   ]
  },
  {
   "cell_type": "markdown",
   "metadata": {},
   "source": [
    "Podemos incluso pasar de coma flotante a enteros, en cuyo caso se trunca la parte decimal:"
   ]
  },
  {
   "cell_type": "code",
   "execution_count": 22,
   "metadata": {},
   "outputs": [
    {
     "data": {
      "text/plain": [
       "array([ 3, -1, -2,  0, 12, 10], dtype=int32)"
      ]
     },
     "execution_count": 22,
     "metadata": {},
     "output_type": "execute_result"
    }
   ],
   "source": [
    "arr = np.array([3.7, -1.2, -2.6, 0.5, 12.9, 10.1])\n",
    "arr\n",
    "arr.astype(np.int32)"
   ]
  },
  {
   "cell_type": "markdown",
   "metadata": {},
   "source": [
    "O pasar de strings a punto flotante, siempre que los strings del array tengan sentido como números:"
   ]
  },
  {
   "cell_type": "code",
   "execution_count": 23,
   "metadata": {},
   "outputs": [
    {
     "data": {
      "text/plain": [
       "array([ 1.25, -9.6 , 42.  ])"
      ]
     },
     "execution_count": 23,
     "metadata": {},
     "output_type": "execute_result"
    }
   ],
   "source": [
    "numeric_strings = np.array(['1.25', '-9.6', '42'], dtype=np.string_)\n",
    "numeric_strings.astype(float)"
   ]
  },
  {
   "cell_type": "markdown",
   "metadata": {},
   "source": [
    "### Operaciones aritméticas con arrays"
   ]
  },
  {
   "cell_type": "markdown",
   "metadata": {},
   "source": [
    "Una de las características más interesantes de numpy es la posibilidad de aplicar eficientes operaciones aritméticas \"componente a componente\" entre arrays, sin necesidad de usar bucles `for`. Basta con usar la correspondiente operación numérica de python. \n",
    "\n",
    "Veamos algunos ejemplos:"
   ]
  },
  {
   "cell_type": "code",
   "execution_count": 24,
   "metadata": {},
   "outputs": [],
   "source": [
    "A = np.array([[1., 2., 3.], [4., 5., 6.]])\n",
    "B = np.array([[8.1, -22, 12.3], [6.1, 7.8, 9.2]])"
   ]
  },
  {
   "cell_type": "code",
   "execution_count": 25,
   "metadata": {},
   "outputs": [
    {
     "data": {
      "text/plain": [
       "array([[  8.1, -44. ,  36.9],\n",
       "       [ 24.4,  39. ,  55.2]])"
      ]
     },
     "execution_count": 25,
     "metadata": {},
     "output_type": "execute_result"
    }
   ],
   "source": [
    "A * B"
   ]
  },
  {
   "cell_type": "code",
   "execution_count": 26,
   "metadata": {},
   "outputs": [
    {
     "data": {
      "text/plain": [
       "array([[-7.1, 24. , -9.3],\n",
       "       [-2.1, -2.8, -3.2]])"
      ]
     },
     "execution_count": 26,
     "metadata": {},
     "output_type": "execute_result"
    }
   ],
   "source": [
    "A - B"
   ]
  },
  {
   "cell_type": "code",
   "execution_count": 27,
   "metadata": {},
   "outputs": [],
   "source": [
    "from collections import defaultdict\n",
    "import math\n",
    "\n",
    "def crea_estados(cuadricula):\n",
    "        res = []\n",
    "        for i in range(len(cuadricula)):\n",
    "                for j in range(len(cuadricula[i])):    \n",
    "                        if(cuadricula[i][j]!='x'):\n",
    "                                res.append((i,j))\n",
    "        return res\n",
    "    \n",
    "def matriz_pi_Robot(cuad):   \n",
    "    estados = crea_estados(cuad)        \n",
    "    tamaño = len(estados)\n",
    "    proababilidad = 1/tamaño\n",
    "    dic = defaultdict(int)\n",
    "    for e in estados:\n",
    "        dic[e]=proababilidad\n",
    "    return dic \n",
    "\n",
    "def matriz_a_robot(cuad):\n",
    "    estados = crea_estados(cuad)\n",
    "    dic=defaultdict(float)\n",
    "    for e1 in estados:\n",
    "        listaVecinos=[]\n",
    "        noVecinos = []\n",
    "        for e2 in estados:\n",
    "            if(cuad[e1[0]][e1[1]]=='E'): # Si la casilla es E\n",
    "                if ((abs(e1[0]-e2[0])==1) and ((abs(e1[1]-e2[1])==1))): # Miro las diagonales disponibles\n",
    "                    listaVecinos.append(e2) #añado las disponibles\n",
    "                elif(((abs(e1[0]-e2[0])==1) and e2[1] == e1[1]) or \n",
    "                     ((abs(e1[1]-e2[1])==1) and e2[0] == e1[0])): # Miro las adyacentes disponibles\n",
    "                    listaVecinos.append(e2) #añado las adyacentes disponibles\n",
    "                else:\n",
    "                    noVecinos.append(e2)    # Si no se cumple lo meto en no Vecino\n",
    "            else:\n",
    "                if (((abs(e1[0]-e2[0])==1) and e2[1] == e1[1]) or \n",
    "                     ((abs(e1[1]-e2[1])==1) and e2[0] == e1[0])): #Si es casilla o solo miro las adyacentes\n",
    "                    listaVecinos.append(e2) #meto las adyacentes\n",
    "                else:\n",
    "                    noVecinos.append(e2)\n",
    "        for e in listaVecinos:\n",
    "            dic[(e1,e)]=1/len(listaVecinos)\n",
    "        for e in noVecinos:\n",
    "            dic[(e1,e)]=0      \n",
    "    return dic         \n",
    "\n",
    "def observables_robot():\n",
    "    return [(0, 0, 0, 0),(0, 0, 0, 1),(0, 0, 1, 0),(0, 0, 1, 1),(0, 1, 0, 0),\n",
    "    (0, 1, 0, 1),(0, 1, 1, 0),(0, 1, 1, 1),(1, 0, 0, 0),(1, 0, 0, 1),\n",
    "    (1, 0, 1, 0),(1, 0, 1, 1),(1, 1, 0, 0),(1, 1, 0, 1),(1, 1, 1, 0),\n",
    "    (1, 1, 1, 1)] \n",
    "    \n",
    "def existe_estado(estado, estados):\n",
    "    res = False\n",
    "    for e in estados:\n",
    "        if estado == e:\n",
    "            res = True\n",
    "    return res\n",
    "\n",
    "def calcula_probabilidad(estado, obs, epsilon, estados):\n",
    "    aciertos = 0\n",
    "    fallos = 0\n",
    "    #Norte libre\n",
    "    if(existe_estado((estado[0] -1, estado[1]),estados)):\n",
    "        if obs[0] == 0:\n",
    "            aciertos += 1\n",
    "        else:\n",
    "            fallos += 1\n",
    "    else:\n",
    "        if(obs[0]==0):\n",
    "            fallos += 1\n",
    "        else:\n",
    "            aciertos += 1\n",
    "    #Sur libre\n",
    "    if(existe_estado((estado[0] + 1, estado[1]),estados)):\n",
    "        if obs[1] == 0:\n",
    "            aciertos += 1\n",
    "        else:\n",
    "            fallos += 1\n",
    "    else:\n",
    "        if(obs[1]==0):\n",
    "            fallos += 1\n",
    "        else:\n",
    "            aciertos += 1\n",
    "    #Este libre\n",
    "    if(existe_estado((estado[0], estado[1]+1),estados)):\n",
    "        if obs[2] == 0:\n",
    "            aciertos += 1\n",
    "        else:\n",
    "            fallos += 1\n",
    "    else:\n",
    "        if(obs[2]==0):\n",
    "            fallos += 1\n",
    "        else:\n",
    "            aciertos += 1\n",
    "    #Oeste libre\n",
    "    if(existe_estado((estado[0], estado[1]-1), estados)):\n",
    "        if obs[3] == 0:\n",
    "            aciertos += 1\n",
    "        else:\n",
    "            fallos += 1\n",
    "    else:\n",
    "        if(obs[3]==0):\n",
    "            fallos += 1\n",
    "        else:\n",
    "            aciertos += 1\n",
    "    return (epsilon**(fallos)) * ((1-epsilon)**aciertos)\n",
    "    \n",
    "\n",
    "def matriz_b_robot(cuad,epsilon):\n",
    "    dic = {}\n",
    "    estados = crea_estados(cuad)\n",
    "    for e in estados:\n",
    "        for o in observables_robot():\n",
    "            dic[(e,o)]=calcula_probabilidad(e,o,epsilon,estados)\n",
    "    return dic\n",
    "    \n",
    "class HMM(object):\n",
    "    \"\"\"Clase para definir un modelo oculto de Markov\"\"\"\n",
    "\n",
    "    def __init__(self,estados,mat_ini,mat_trans,observables,mat_obs):\n",
    "        \"\"\"El constructor de la clase recibe una lista con los estados, otra\n",
    "        lista con los observables, un diccionario representado la matriz de\n",
    "        probabilidades de transición, otro diccionario con la matriz de\n",
    "        probabilidades de observación, y otro con las probabilidades de\n",
    "        inicio. Supondremos (no lo comprobamos) que las matrices son \n",
    "        coherentes respecto de la  lista de estados y de observables.\"\"\"\n",
    "        \n",
    "        self.estados=estados\n",
    "        self.observables=observables\n",
    "        self.a={(si,sj):ptrans\n",
    "                for (si,l) in zip(estados,mat_trans)\n",
    "                for (sj,ptrans) in zip(estados,l)}\n",
    "        self.b={(si,vj):pobs\n",
    "                for (si,l) in zip(estados,mat_obs)\n",
    "                for (vj,pobs) in zip(observables,l)}\n",
    "        self.pi=dict(zip(estados,mat_ini))\n",
    "\n",
    "\n",
    "ej1_hmm=HMM([\"c\",\"f\"],\n",
    "            [0.8,0.2],\n",
    "            [[0.7,0.3],[0.4,0.6]],\n",
    "            [1,2,3],   \n",
    "            [[0.2,0.4,0.4],[0.5,0.4,0.1]])\n",
    "            \n",
    "\n",
    "ej2_hmm=HMM([\"l\",\"no l\"],\n",
    "            [0.5,0.5],\n",
    "            [[0.7, 0.3], [0.3,0.7]],\n",
    "            [\"u\",\"no u\"],   \n",
    "            [[0.9,0.1],[0.2,0.8]])\n",
    "\n",
    "class Robot(HMM):\n",
    "    def __init__(self, cuadricula, epsilon):\n",
    "        self.cuadricula = cuadricula\n",
    "        self.epsilon = epsilon\n",
    "        self.estados = crea_estados(cuadricula)\n",
    "        self.pi = matriz_pi_Robot(cuadricula)\n",
    "        self.a = matriz_a_robot(cuadricula)\n",
    "        self.observables = observables_robot()\n",
    "        self.b = matriz_b_robot(cuadricula, epsilon)"
   ]
  },
  {
   "cell_type": "code",
   "execution_count": 28,
   "metadata": {},
   "outputs": [],
   "source": [
    "import math\n",
    " \n",
    "    \n"
   ]
  },
  {
   "cell_type": "code",
   "execution_count": null,
   "metadata": {},
   "outputs": [],
   "source": []
  },
  {
   "cell_type": "code",
   "execution_count": 29,
   "metadata": {},
   "outputs": [],
   "source": [
    "#!/usr/bin/env python3\n",
    "# -*- coding: utf-8 -*-\n",
    "\n",
    "# ==========================================================\n",
    "# Ampliación de Inteligencia Artificial. Tercer curso.\n",
    "# Grado en Ingeniería Informática - Tecnologías Informáticas\n",
    "# Curso 2023-24\n",
    "# Primer entregable\n",
    "# ===========================================================\n",
    "\n",
    "# -----------------------------------------------------------\n",
    "# NOMBRE: Adrián \n",
    "# APELLIDOS: González Lillo\n",
    "# -----------------------------------------------------------\n",
    "\n",
    "\n",
    "\n",
    "# Escribir el código Python de las funciones que se piden en el\n",
    "# espacio que se indica en cada ejercicio.\n",
    "\n",
    "# IMPORTANTE: NO CAMBIAR EL NOMBRE NI A ESTE ARCHIVO NI A LAS FUNCIONES QUE SE\n",
    "# PIDEN (aquellas funciones con un nombre distinto al que se pide en el\n",
    "# ejercicio NO se corregirán).\n",
    "\n",
    "# ESTE ENTREGABLE SUPONE 1 PUNTO DE LA NOTA TOTAL\n",
    "\n",
    "# *****************************************************************************\n",
    "# HONESTIDAD ACADÉMICA Y COPIAS: la realización de los ejercicios es un\n",
    "# trabajo personal, por lo que deben completarse por cada estudiante de manera\n",
    "# individual.  La discusión con los compañeros y el intercambio de información\n",
    "# DE CARÁCTER GENERAL con los compañeros se permite, pero NO AL NIVEL DE\n",
    "# CÓDIGO. Igualmente el remitir código de terceros, obtenido a través\n",
    "# de la red, mediante herramientas de genración de código, o cualquier otro medio\n",
    "# SE CONSIDERARÁ PLAGIO.\n",
    "\n",
    "# Cualquier plagio o compartición de código que se detecte significará\n",
    "# automáticamente la calificación de CERO EN LA ASIGNATURA para TODOS los\n",
    "# estudiantes involucrados, independientemente de otras medidas de carácter\n",
    "# DISCIPLINARIO que se pudieran tomar. Por tanto a estos estudiantes NO se les\n",
    "# conservará, para futuras convocatorias, ninguna nota que hubiesen obtenido\n",
    "# hasta el momento.\n",
    "# *****************************************************************************\n",
    "\n",
    "\n",
    "\n",
    "# Lo que sigue es la implementación de la clase HMM vista en la práctica de clase,\n",
    "# que representa de manera genérica un modelo oculto de Markov, junto con los\n",
    "# dos ejemplos de las diapositivas.\n",
    "\n",
    "class HMM(object):\n",
    "    \"\"\"Clase para definir un modelo oculto de Markov\"\"\"\n",
    "\n",
    "    def __init__(self,estados,mat_ini,mat_trans,observables,mat_obs):\n",
    "        \"\"\"El constructor de la clase recibe una lista con los estados, otra\n",
    "        lista con los observables, un diccionario representado la matriz de\n",
    "        probabilidades de transición, otro diccionario con la matriz de\n",
    "        probabilidades de observación, y otro con las probabilidades de\n",
    "        inicio. Supondremos (no lo comprobamos) que las matrices son \n",
    "        coherentes respecto de la  lista de estados y de observables.\"\"\"\n",
    "        \n",
    "        self.estados=estados\n",
    "        self.observables=observables\n",
    "        self.a={(si,sj):ptrans\n",
    "                for (si,l) in zip(estados,mat_trans)\n",
    "                for (sj,ptrans) in zip(estados,l)}\n",
    "        self.b={(si,vj):pobs\n",
    "                for (si,l) in zip(estados,mat_obs)\n",
    "                for (vj,pobs) in zip(observables,l)}\n",
    "        self.pi=dict(zip(estados,mat_ini))\n",
    "\n",
    "\n",
    "ej1_hmm=HMM([\"c\",\"f\"],\n",
    "            [0.8,0.2],\n",
    "            [[0.7,0.3],[0.4,0.6]],\n",
    "            [1,2,3],   \n",
    "            [[0.2,0.4,0.4],[0.5,0.4,0.1]])\n",
    "            \n",
    "\n",
    "ej2_hmm=HMM([\"l\",\"no l\"],\n",
    "            [0.5,0.5],\n",
    "            [[0.7, 0.3], [0.3,0.7]],\n",
    "            [\"u\",\"no u\"],   \n",
    "            [[0.9,0.1],[0.2,0.8]])\n",
    "\n",
    "\n",
    "# Lo que sigue son implementaciones de los algoritmos de avance y de viterbi:\n",
    "\n",
    "def avance(hmm,observaciones):\n",
    "    \"\"\"Algoritmo de avance (forward). Dada una secuencia de observaciones\n",
    "    hasta el instante t, devuelve la probabilidad de cada estado \n",
    "    en el instante t y la probabilidad de la secuencia de observaciones\"\"\"\n",
    "    \n",
    "    alpha_list=[hmm.b[(e,observaciones[0])]*hmm.pi[e] \n",
    "                for e in hmm.estados]\n",
    "    for o in observaciones[1:]:\n",
    "        alpha_list=[hmm.b[(e,o)]*sum(hmm.a[(e1,e)]*a \n",
    "                                       for (e1,a) in zip(hmm.estados,alpha_list)) \n",
    "                    for e in hmm.estados]\n",
    "        \n",
    "    prob_secuencia=sum(alpha_list)\n",
    "    alpha_list_n=[(p/prob_secuencia) for p in alpha_list] \n",
    "    return dict(zip(hmm.estados,alpha_list_n)) \n",
    "\n",
    "\n",
    "def viterbi(hmm,observaciones):\n",
    "        \"\"\"Algoritmo de Viterbi. Dada una secuancia de observaciones, devuelve\n",
    "        la secuencia de estados más probable\"\"\"\n",
    "\n",
    "        def max_argmax(l):\n",
    "            \"\"\"Si l es una lista numérica, devuelve el índice del valor máximo\n",
    "            y ese valor\"\"\"\n",
    "            return max(enumerate(l),key=lambda x:x[1])\n",
    "\n",
    "        def mult_seg(x,p):\n",
    "            \"\"\"Multiplica por x la segunda componente de un par p\"\"\"\n",
    "            return (p[0],x*p[1])\n",
    "\n",
    "        pr_nu_list=[(None,hmm.b[(e,observaciones[0])]*hmm.pi[e]) \n",
    "                              for e in hmm.estados]\n",
    "        historia=dict()\n",
    "        for (i,o) in enumerate(observaciones[1:]):\n",
    "\n",
    "            historia[i]=pr_nu_list\n",
    "            pr_nu_list=[mult_seg(hmm.b[(e,o)],max_argmax(hmm.a[(e1,e)]*alpha \n",
    "                                                for (e1,(_,alpha)) in zip(hmm.estados,pr_nu_list)))\n",
    "                                            for e in hmm.estados]\n",
    "        (m,(ptr,_))=max(enumerate(pr_nu_list),key=lambda x:x[1][1])\n",
    "        secuencia=[hmm.estados[m]]\n",
    "        for k in range(len(observaciones)-2,-1,-1):\n",
    "            secuencia.append(hmm.estados[ptr])\n",
    "            (ptr,_)=historia[k][ptr]\n",
    "        return list(reversed(secuencia))    \n",
    "\n",
    "\n",
    "\n",
    "\n",
    "# Un algoritmo de muestreo de secuencias de estados y observaciones en HMMs, \n",
    "# también visto en la práctica realizada en clase:\n",
    "        \n",
    "\n",
    "from collections import defaultdict\n",
    "import random\n",
    "\n",
    "def muestreo_hmm(hmm,n):\n",
    "    \"\"\"Genera una secuencia de estados junto con su correspondiente\n",
    "    secuencia de observaciones, de longitud n\"\"\"\n",
    "\n",
    "    def muestreo_ini():\n",
    "        \"\"\"Devuelve aleatoriamente (siguiendo las probabilidades del\n",
    "        modelo) el primer estado en la secuencia\"\"\"\n",
    "\n",
    "        aleatorio=random.random()\n",
    "        acum=0\n",
    "        for x in hmm.estados:\n",
    "            acum+=hmm.pi[x]\n",
    "            if acum > aleatorio:\n",
    "                return x\n",
    "            \n",
    "    def muestreo_cond(estado,lista,mat_prob):\n",
    "        \"\"\"Esta función se usa para dos tareas muy similares:\n",
    "           - Dado el estado actual, devolver aleatoriamente (pero\n",
    "             siguiendo las probabilidades del modelo), el estado sigueinte\n",
    "             en la secuencia. En ese caso, lista es la lista de estados y\n",
    "             mat_prob la matriz de probabilidades de transición. \n",
    "\n",
    "           - Dado el estado actual, devolver aleatoriamento (pero\n",
    "             siguiendo las probabilidades del modelo), la observación\n",
    "             correspondiente a ese estado. En ese caso, lista es la lista\n",
    "             de observables y mat_prob es la matriz de probabilidades de\n",
    "             observación.\"\"\"\n",
    "\n",
    "        aleatorio=random.random()\n",
    "        acum=0\n",
    "        for x in lista:\n",
    "            acum+=mat_prob[estado,x]\n",
    "            if acum > aleatorio:\n",
    "                return x\n",
    "\n",
    "            \n",
    "    secuencia_estados=[muestreo_ini()]\n",
    "    secuencia_obs=[muestreo_cond(secuencia_estados[-1],hmm.observables,hmm.b)]\n",
    "\n",
    "    for _ in range(n-1):\n",
    "        secuencia_estados.append(muestreo_cond(secuencia_estados[-1],hmm.estados,hmm.a)) \n",
    "        secuencia_obs.append(muestreo_cond(secuencia_estados[-1],hmm.observables,hmm.b))\n",
    "\n",
    "    return secuencia_estados, secuencia_obs\n",
    "\n",
    "\n",
    "\n",
    "# Y una función que realiza una estimación de  P(X_t| o1,o2,...,o_n), \n",
    "# usando la función de muestreo anterior. \n",
    "\n",
    "\n",
    "\n",
    "\n",
    "\n",
    "# ===============================================================\n",
    "# Parte 1: Probabilidad de filtrado usando muestreos ponderados\n",
    "#=====================================================================\n",
    "\n",
    "\n",
    "# Modificar las dos funciones anteriores para realizar la estimación de\n",
    "# P(X_t| o1,o2,...,o_n), usando muestreo con ponderación por verosimilitud.  \n",
    "# \n",
    "# Es decir, se trata de definir:\n",
    "    \n",
    "# * Una función muestreo_hmm_por_verosimilitud(hmm, obs) que recibe un modelo \n",
    "#   oculto de Markov hmm y una secuencia de observaciones obs, y genera una\n",
    "#   secuencia de estados mediante muestreo, dando por supuesto que la secuencia de \n",
    "#   observaciones correspondiente es la dada por obs. Además de esa  secuencia \n",
    "#   de estados, devuelve una ponderación de la muestra generada. Esa ponderación\n",
    "#   se obtiene multiplicando las probabilidades de que cada observación de la \n",
    "#   secuencia dada hubiera ocurrido si se hubiese muestreado. \n",
    "\n",
    "\n",
    "# * Una función estima_filtrado_por_verosimilitud(hmm,obs,n_muestras) que \n",
    "#   que recibiendo un modelo oculto de Markov hmm, una secuencia de observaciones\n",
    "#   y un entero n_muestras indicando el número de muestras a generar, haga una\n",
    "#   estimación de las probabilidades de cada estado dado que se ha observado la \n",
    "#   secuencia de observaciones dada, usando para ello la función de \n",
    "#   muestreo_hmm_por_verosimilitud anterior.\n",
    "\n",
    "# Ejemplos (no necesariamente debe salir lo mismo):\n",
    "    \n",
    "# >>> muestreo_hmm_por_verosimilitud(ej1_hmm,[2, 1, 1, 1, 3])\n",
    "# (['c', 'c', 'c', 'c', 'c'], 0.00128)    \n",
    "\n",
    "# >>> muestreo_hmm_por_verosimilitud(ej2_hmm,['u', 'no u', 'u'])\n",
    "# (['l', 'l', 'l'], 0.081)\n",
    "\n",
    "\n",
    "# >>> estima_filtrado_por_verosimilitud(ej1_hmm,[3,1,3,2],100000)\n",
    "# {'c': 0.6477223509962132, 'f': 0.35227764900378683}\n",
    "\n",
    "# >>> estima_filtrado_por_verosimilitud(ej2_hmm,[\"u\",\"u\",\"no u\"],100000)\n",
    "# {'l': 0.19304969498121577, 'no l': 0.8069503050187843}\n",
    "   \n",
    "def muestreo_hmm_por_verosimilitud(hmm,obs):\n",
    "    \"\"\"Genera una secuencia de estados junto con su correspondiente\n",
    "    secuencia de observaciones, de longitud n\"\"\"\n",
    "\n",
    "    def muestreo_ini():\n",
    "        \"\"\"Devuelve aleatoriamente (siguiendo las probabilidades del\n",
    "        modelo) el primer estado en la secuencia\"\"\"\n",
    "\n",
    "        aleatorio=random.random()\n",
    "        acum=0\n",
    "        for x in hmm.estados:\n",
    "            acum+=hmm.pi[x]\n",
    "            if acum > aleatorio:\n",
    "                return x\n",
    "            \n",
    "    def muestreo_cond(estado,lista,mat_prob):\n",
    "        \"\"\"Esta función se usa para dos tareas muy similares:\n",
    "           - Dado el estado actual, devolver aleatoriamente (pero\n",
    "             siguiendo las probabilidades del modelo), el estado sigueinte\n",
    "             en la secuencia. En ese caso, lista es la lista de estados y\n",
    "             mat_prob la matriz de probabilidades de transición. \n",
    "\n",
    "           - Dado el estado actual, devolver aleatoriamento (pero\n",
    "             siguiendo las probabilidades del modelo), la observación\n",
    "             correspondiente a ese estado. En ese caso, lista es la lista\n",
    "             de observables y mat_prob es la matriz de probabilidades de\n",
    "             observación.\"\"\"\n",
    "\n",
    "        aleatorio=random.random()\n",
    "        res=0\n",
    "        for x in lista:\n",
    "            res+=mat_prob[estado,x]\n",
    "            if res > aleatorio:\n",
    "                return x\n",
    "            \n",
    "    secuencia_estados=[muestreo_ini()]\n",
    "\n",
    "    for _ in range(len(obs)-1):\n",
    "        secuencia_estados.append(muestreo_cond(secuencia_estados[-1],hmm.estados,hmm.a)) \n",
    "\n",
    "    res = 1\n",
    "    for z1,z2 in zip(secuencia_estados, obs):\n",
    "        res = res * hmm.b[(z1,z2)] \n",
    "\n",
    "    return secuencia_estados, res\n",
    "\n",
    "\n",
    "def estima_filtrado_por_verosimilitud(hmm,obs,n_muestras):      \n",
    "        ocurrencias_estados={e:0 for e in hmm.estados}\n",
    "        for _ in range(n_muestras):\n",
    "            secuencia_est,dato=muestreo_hmm_por_verosimilitud(hmm,obs)\n",
    "            ocurrencias_estados[secuencia_est[-1]]+= dato\n",
    "        norm = sum(ocurrencias_estados.values())\n",
    "        return {e:m_e/norm for e,m_e in ocurrencias_estados.items()}\n",
    "\n",
    "\n",
    "#=====================================================================\n",
    "# Parte 2: Aplicación al movimiento de robots\n",
    "#=====================================================================\n",
    "\n",
    "# Vamos ahora a aplicar el algoritmo de viterbi para experimentar sobre\n",
    "# un problema simple de localización de robots que se mueve en una cuadrícula.\n",
    "# Esta aplicación es similar (aunque no igual) a la  descrita en la sección \n",
    "# 14.3.2 del libro \"Artificial Intelligence: A Modern Approach (4th edition)\" \n",
    "# de S. Russell y P. Norvig.\n",
    "\n",
    "# Supongamos que tenemos la siguiente lista de strings, que representa una\n",
    "# cuadrícula bidimensional, sobre la que se desplaza un robot:\n",
    "\n",
    "#     [\"ooooxoooooxoooxo\",\n",
    "#      \"xxooxoxxoxoxExxo\",\n",
    "#      \"xoEoxoxxoooooxxo\",\n",
    "#      \"ooxooExooooxoooo\"]\n",
    "\n",
    "# Aquí la \"x\" representa una casilla bloquedada, y la \"o\" representa una\n",
    "# casilla libre en la que puede estar el robot. La \"E\" representa también casilla \n",
    "# libre, pero con un tratamiento especial que más adelante se detalla. \n",
    "\n",
    "#   El robot puede iniciar su movimiento en cualquiera de las casillas libres,\n",
    "# con igual probabilidad. En cada instante, si está en una casilla marcada \n",
    "# con \"o\", el robot se mueve a una casilla contigua no oblicua: al norte, al sur, \n",
    "# al este o al oeste, siempre que dicha casilla no esté bloqueda. Si la casilla en la \n",
    "# que se encuentra está marcada con \"E\", entonces además de poderse mover al \n",
    "# norte, sur, este y oeste, puede moverse a una casilla en oblicuo (NE,NO,SE,SO), \n",
    "# entendiendo siempre que la casilla a la que se mueva no puede estar bloqueada.     \n",
    "\n",
    "# El movimiento del robot está sujeto a incertidumbre (no está determinada a qué \n",
    "# vecina se moverá), pero sabemos que se puede mover CON IGUAL PROBABILIDAD A CADA\n",
    "# CASILLA VECINA NO BLOQUEADA, teniendo en cuenta que la noción de vecina accesible\n",
    "# difiere si se trata de una casilla especial.     \n",
    "\n",
    "#   Desgraciadamente, el robot no nos comunica en qué casilla se encuentra en\n",
    "# cada instante de tiempo, ni nosotros podemos observarlo. Lo único que el\n",
    "# robot puede observar en cada casilla son las direcciones hacia las que\n",
    "# existen obstáculos (es decir, casillas bloqueadas o paredes). Por ejemplo, una\n",
    "# observación \"N-S\" representa que el robot ha detectado que desde la casilla\n",
    "# en la que está, al norte y al sur no pueda transitar, pero que sí puede\n",
    "# hacerlo a las casillas que están al este y al oeste. Tanto en las casillas normales\n",
    "# como en las especiales, los sensores solo detectan posibles bloqueos al N, S, E y O \n",
    "# (es decir, el sensor nunca detecta en oblicuo, tampoco en las casillas especiales)    \n",
    "\n",
    "#   Para acabar de complicar la cosa, los sensores de obstáculos que tiene el\n",
    "# robot no son perfectos, y están sujetos a una probabilidad de error.\n",
    "# Supondremos que hay una probabilidad epsilon de que la detección de\n",
    "# obstáculo en una dirección sea errónea (y por tanto, hay una probabilidad\n",
    "# 1-epsilon de que sea correcta). Supondremos también que los errores en\n",
    "# cada una de las cuatro direcciones son independientes entre sí. Esto nos\n",
    "# permite calcular la probabilidad de las observaciones dados los estados, como\n",
    "# ilustramos a continuación.\n",
    "\n",
    "#   Por ejemplo, supongamos que X y E son, respectivamente, las variables\n",
    "# aleatorias que indican la casilla en la que está el robot y la observación\n",
    "# que realiza el robot. Supongamos también que c es una casilla que hacia el\n",
    "# norte y el este tiene obstáculos, y que tiene casillas transitables al sur y\n",
    "# al oeste. Si por ejemplo el robot informara que existen obstáculos al sur y\n",
    "# al este, la probabilidad de esto sería \n",
    "\n",
    "#     P(E=\"S-E\"|X=c) = (epsilon)^2 * (1-epsilon)^2 \n",
    "\n",
    "# (ya que habría errado en dos direcciones, norte y sur, y acertado en otras\n",
    "# dos, este y oeste). \n",
    "\n",
    "# Por el contrario, la probabilidad de que en ese mismo estado el robot\n",
    "# informara de obstáculos al norte, sur y este, sería \n",
    "\n",
    "#     P(E=\"N-S-E\"|X=c) = epsilon * (1-epsilon)^3 \n",
    "\n",
    "# (ya que habría errado en una dirección y acertado en tres).\n",
    "\n",
    "#robot0.b\n",
    "#{((0, 0), (0, 0, 0, 0)): 0.008100000000000001,\n",
    "# ((0, 0), (0, 0, 0, 1)): 0.07290000000000002,\n",
    "# ((0, 0), (0, 0, 1, 0)): 0.0009000000000000002,\n",
    "# ((0, 0), (0, 0, 1, 1)): 0.008100000000000001,\n",
    "\n",
    "# Se pide:\n",
    "\n",
    "# Definir una clase Robot, subclase de HMM, cuyo constructor reciba una lista\n",
    "# de strings del estilo de la del ejemplo anterior, y un error epsilon, generando a\n",
    "# partir de la misma un objeto de la clase HMM. Importante: se pide hacerlo de \n",
    "# manera genérica, no solo para la cuadrícula del ejemplo. \n",
    "\n",
    "# Aplicar el algoritmo de Viterbi a varias secuencias de observaciones del robot,\n",
    "# para estimar las correspondientes secuencias de casillas más probables por\n",
    "# las que ha pasado el robot, en la cuadrícula del ejemplo.\n",
    "\n",
    "from collections import defaultdict\n",
    "import math\n",
    "\n",
    "def crea_estados(cuadricula):\n",
    "        res = []\n",
    "        for i in range(len(cuadricula)):\n",
    "                for j in range(len(cuadricula[i])):    \n",
    "                        if(cuadricula[i][j]!='x'):\n",
    "                                res.append((i,j))\n",
    "        return res\n",
    "    \n",
    "def matriz_pi_Robot(cuad):   \n",
    "    estados = crea_estados(cuad)        \n",
    "    tamaño = len(estados)\n",
    "    proababilidad = 1/tamaño\n",
    "    dic = defaultdict(int)\n",
    "    for e in estados:\n",
    "        dic[e]=proababilidad\n",
    "    return dic \n",
    "\n",
    "def matriz_a_robot(cuad):\n",
    "    estados = crea_estados(cuad)\n",
    "    dic=defaultdict(float)\n",
    "    for e1 in estados:\n",
    "        listaVecinos=[]\n",
    "        noVecinos = []\n",
    "        for e2 in estados:\n",
    "            if(cuad[e1[0]][e1[1]]=='E'): # Si la casilla es E\n",
    "                if ((abs(e1[0]-e2[0])==1) and ((abs(e1[1]-e2[1])==1))): # Miro las diagonales disponibles\n",
    "                    listaVecinos.append(e2) #añado las disponibles\n",
    "                elif(((abs(e1[0]-e2[0])==1) and e2[1] == e1[1]) or \n",
    "                     ((abs(e1[1]-e2[1])==1) and e2[0] == e1[0])): # Miro las adyacentes disponibles\n",
    "                    listaVecinos.append(e2) #añado las adyacentes disponibles\n",
    "                else:\n",
    "                    noVecinos.append(e2)    # Si no se cumple lo meto en no Vecino\n",
    "            else:\n",
    "                if (((abs(e1[0]-e2[0])==1) and e2[1] == e1[1]) or \n",
    "                     ((abs(e1[1]-e2[1])==1) and e2[0] == e1[0])): #Si es casilla o solo miro las adyacentes\n",
    "                    listaVecinos.append(e2) #meto las adyacentes\n",
    "                else:\n",
    "                    noVecinos.append(e2)\n",
    "        for e in listaVecinos:\n",
    "            dic[(e1,e)]=1/len(listaVecinos)\n",
    "        for e in noVecinos:\n",
    "            dic[(e1,e)]=0      \n",
    "    return dic         \n",
    "\n",
    "def observables_robot():\n",
    "    return [(0, 0, 0, 0),(0, 0, 0, 1),(0, 0, 1, 0),(0, 0, 1, 1),(0, 1, 0, 0),\n",
    "    (0, 1, 0, 1),(0, 1, 1, 0),(0, 1, 1, 1),(1, 0, 0, 0),(1, 0, 0, 1),\n",
    "    (1, 0, 1, 0),(1, 0, 1, 1),(1, 1, 0, 0),(1, 1, 0, 1),(1, 1, 1, 0),\n",
    "    (1, 1, 1, 1)] \n",
    "    \n",
    "def existe_estado(estado, estados):\n",
    "    res = False\n",
    "    for e in estados:\n",
    "        if estado == e:\n",
    "            res = True\n",
    "    return res\n",
    "\n",
    "def calcula_probabilidad(estado, obs, epsilon, estados):\n",
    "    aciertos = 0\n",
    "    fallos = 0\n",
    "    #Norte libre\n",
    "    if(existe_estado((estado[0] -1, estado[1]),estados)):\n",
    "        if obs[0] == 0:\n",
    "            aciertos += 1\n",
    "        else:\n",
    "            fallos += 1\n",
    "    else:\n",
    "        if(obs[0]==0):\n",
    "            fallos += 1\n",
    "        else:\n",
    "            aciertos += 1\n",
    "    #Sur libre\n",
    "    if(existe_estado((estado[0] + 1, estado[1]),estados)):\n",
    "        if obs[1] == 0:\n",
    "            aciertos += 1\n",
    "        else:\n",
    "            fallos += 1\n",
    "    else:\n",
    "        if(obs[1]==0):\n",
    "            fallos += 1\n",
    "        else:\n",
    "            aciertos += 1\n",
    "    #Este libre\n",
    "    if(existe_estado((estado[0], estado[1]+1),estados)):\n",
    "        if obs[2] == 0:\n",
    "            aciertos += 1\n",
    "        else:\n",
    "            fallos += 1\n",
    "    else:\n",
    "        if(obs[2]==0):\n",
    "            fallos += 1\n",
    "        else:\n",
    "            aciertos += 1\n",
    "    #Oeste libre\n",
    "    if(existe_estado((estado[0], estado[1]-1), estados)):\n",
    "        if obs[3] == 0:\n",
    "            aciertos += 1\n",
    "        else:\n",
    "            fallos += 1\n",
    "    else:\n",
    "        if(obs[3]==0):\n",
    "            fallos += 1\n",
    "        else:\n",
    "            aciertos += 1\n",
    "    return (epsilon**(fallos)) * ((1-epsilon)**aciertos)\n",
    "    \n",
    "\n",
    "def matriz_b_robot(cuad,epsilon):\n",
    "    dic = {}\n",
    "    estados = crea_estados(cuad)\n",
    "    for e in estados:\n",
    "        for o in observables_robot():\n",
    "            dic[(e,o)]=calcula_probabilidad(e,o,epsilon,estados)\n",
    "    return dic\n",
    "    \n",
    "class HMM(object):\n",
    "    \"\"\"Clase para definir un modelo oculto de Markov\"\"\"\n",
    "\n",
    "    def __init__(self,estados,mat_ini,mat_trans,observables,mat_obs):\n",
    "        \"\"\"El constructor de la clase recibe una lista con los estados, otra\n",
    "        lista con los observables, un diccionario representado la matriz de\n",
    "        probabilidades de transición, otro diccionario con la matriz de\n",
    "        probabilidades de observación, y otro con las probabilidades de\n",
    "        inicio. Supondremos (no lo comprobamos) que las matrices son \n",
    "        coherentes respecto de la  lista de estados y de observables.\"\"\"\n",
    "        \n",
    "        self.estados=estados\n",
    "        self.observables=observables\n",
    "        self.a={(si,sj):ptrans\n",
    "                for (si,l) in zip(estados,mat_trans)\n",
    "                for (sj,ptrans) in zip(estados,l)}\n",
    "        self.b={(si,vj):pobs\n",
    "                for (si,l) in zip(estados,mat_obs)\n",
    "                for (vj,pobs) in zip(observables,l)}\n",
    "        self.pi=dict(zip(estados,mat_ini))\n",
    "\n",
    "\n",
    "ej1_hmm=HMM([\"c\",\"f\"],\n",
    "            [0.8,0.2],\n",
    "            [[0.7,0.3],[0.4,0.6]],\n",
    "            [1,2,3],   \n",
    "            [[0.2,0.4,0.4],[0.5,0.4,0.1]])\n",
    "            \n",
    "\n",
    "ej2_hmm=HMM([\"l\",\"no l\"],\n",
    "            [0.5,0.5],\n",
    "            [[0.7, 0.3], [0.3,0.7]],\n",
    "            [\"u\",\"no u\"],   \n",
    "            [[0.9,0.1],[0.2,0.8]])\n",
    "\n",
    "class Robot(HMM):\n",
    "    def __init__(self, cuadricula, epsilon):\n",
    "        self.cuadricula = cuadricula\n",
    "        self.epsilon = epsilon\n",
    "        self.estados = crea_estados(cuadricula)\n",
    "        self.pi = matriz_pi_Robot(cuadricula)\n",
    "        self.a = matriz_a_robot(cuadricula)\n",
    "        self.observables = observables_robot()\n",
    "        self.b = matriz_b_robot(cuadricula, epsilon)\n",
    "\n",
    "\n",
    "\n",
    "\n",
    "# NOTAS: \n",
    "\n",
    "# - Representar los estados por pares de coordenadas, en el que la (0,0) sería\n",
    "#   la casilla de arriba a la izquierda. \n",
    "# - Nótese que en total son 16 posibles observaciones. Las observaciones las \n",
    "#   representamos por una tupla (i1,i2,i3,i4), en el que  sus elementos son \n",
    "#   0 ó 1, donde 0 indica que no se ha detectado obstáculo, y 1, indica que sí, \n",
    "#   respectivamente en  el N,S, E y O (en ese orden). \n",
    "#   Por ejemplo (1,1,0,0) indica que se detecta obstáculo en el N y en el S.\n",
    "#   y (0,0,1,0) indica que se detecta obstáculo solo en el E.  \n",
    "# - Supondremos que NO hay casillas bloqueadas (es decir, sin vecinos).    \n",
    "\n",
    "\n",
    "\n",
    "# Ejemplo de HMM generado para una cuadrícula básica:\n",
    "    \n",
    "cuadr0=[\"ooo\",\n",
    "        \"oxE\",\n",
    "        \"ooo\"]\n",
    "\n",
    "# >>> robot0=Robot(cuadr0,0.1)\n",
    "\n",
    "# >>> robot0.estados\n",
    "# [(0, 0), (0, 1), (0, 2), (1, 0), (1, 2), (2, 0), (2, 1), (2, 2)]\n",
    "\n",
    "# >>> robot0.observables\n",
    "\n",
    "#[(0, 0, 0, 0),(0, 0, 0, 1),(0, 0, 1, 0),(0, 0, 1, 1),(0, 1, 0, 0),\n",
    "# (0, 1, 0, 1),(0, 1, 1, 0),(0, 1, 1, 1),(1, 0, 0, 0),(1, 0, 0, 1),\n",
    "# (1, 0, 1, 0),(1, 0, 1, 1),(1, 1, 0, 0),(1, 1, 0, 1),(1, 1, 1, 0),\n",
    "# (1, 1, 1, 1)]\n",
    "\n",
    "# >>> robot0.pi \n",
    "# {(0, 0): 0.125, (0, 1): 0.125, (0, 2): 0.125, (1, 0): 0.125,\n",
    "#  (1, 2): 0.125, (2, 0): 0.125, (2, 1): 0.125, (2, 2): 0.125}\n",
    "\n",
    "# >>> robot0.a\n",
    " \n",
    "#{((0, 0), (0, 0)): 0, ((0, 0), (0, 1)): 0.5, ((0, 0), (0, 2)): 0,\n",
    "# ((0, 0), (1, 0)): 0.5,((0, 0), (1, 2)): 0, ((0, 0), (2, 0)): 0,\n",
    "# ((0, 0), (2, 1)): 0, ((0, 0), (2, 2)): 0,\n",
    "# ((0, 1), (0, 0)): 0.5, ((0, 1), (0, 1)): 0, ((0, 1), (0, 2)): 0.5,\n",
    "# ((0, 1), (1, 0)): 0, ((0, 1), (1, 2)): 0, ((0, 1), (2, 0)): 0,\n",
    "# ((0, 1), (2, 1)): 0, ((0, 1), (2, 2)): 0,\n",
    "# ((0, 2), (0, 0)): 0, ((0, 2), (0, 1)): 0.5,\n",
    "# ...\n",
    "#  ((1, 2), (0, 0)): 0, ((1, 2), (0, 1)): 0.25, # (1,2) es la casilla especial\n",
    "# ((1, 2), (0, 2)): 0.25, ((1, 2), (1, 0)): 0,\n",
    "# ((1, 2), (1, 2)): 0, ((1, 2), (2, 0)): 0,\n",
    "# ((1, 2), (2, 1)): 0.25, ((1, 2), (2, 2)): 0.25,\n",
    "# ....\n",
    "# ... Continúa .....\n",
    "\n",
    "# >>> robot0.b\n",
    "#{((0, 0), (0, 0, 0, 0)): 0.008100000000000001,\n",
    "# ((0, 0), (0, 0, 0, 1)): 0.07290000000000002,\n",
    "# ((0, 0), (0, 0, 1, 0)): 0.0009000000000000002,\n",
    "# ((0, 0), (0, 0, 1, 1)): 0.008100000000000001,\n",
    "#  ... Continúa ....\n",
    "\n",
    "\n",
    "\n",
    "# -----------\n",
    "\n",
    "# Ejemplo de uso de Viterbi en la cuadrícula del ejemplo\n",
    "\n",
    "\n",
    "\n",
    "\n",
    "cuadr_ej=     [\"ooooxoooooxoooxo\",\n",
    "                \"xxooxoxxoxoxExxo\",\n",
    "                \"xoEoxoxxoooooxxo\",\n",
    "                \"ooxooExooooxoooo\"]\n",
    "\n",
    "\n",
    "\n",
    "\n",
    "robot_ej_hmm=Robot(cuadr_ej,0.15)\n",
    "\n",
    "# Secuencia de 7 observaciones:\n",
    "seq_ej1=[(1, 1, 0, 0), (0, 1, 0, 0), (0, 1, 0, 1), (0, 1, 0, 1),\n",
    "        (1, 1, 0, 0),(0, 1, 1, 0),(1, 1, 0, 0)]\n",
    "\n",
    "# Usando Viterbi, estimamos las casillas por las que ha pasado:\n",
    "\n",
    "viterbi(robot_ej_hmm,seq_ej1)\n",
    "# [(3, 14), (3, 13), (3, 12), (3, 13), (3, 14), (3, 15), (3, 14)]\n",
    "\n",
    "\n",
    "\n",
    "\n",
    "\n",
    "\n",
    "\n",
    "\n",
    "\n",
    "\n",
    "\n",
    "\n",
    "\n",
    "\n",
    "\n",
    "#=====================================================================\n",
    "# Parte 3: Experimentaciones\n",
    "#=====================================================================\n",
    "\n",
    "\n",
    "# Realizar experimentos para ver cómo de buenas son las secuencias que se\n",
    "# obtienen con el algoritmo de Viterbi que se ha implementado. Para ello, una\n",
    "# manera podría ser la siguiente: generar una secuencia de estados y la\n",
    "# correspondiente secuencia de observaciones usando el algoritmo de\n",
    "# muestreo. La secuencia de observaciones obtenida se puede usar como entrada\n",
    "# al algoritmo de Viterbi y comparar la secuencia obtenida con la secuencia de\n",
    "# estados real que ha generado las observaciones. Se pide ejecutar con varios\n",
    "# ejemplos y comprobar cómo de ajustados son los resultados obtenidos. Para\n",
    "# medir el grado de coincidencia entre las dos secuencias de estados, calcular\n",
    "# la proporción de estados coincidentes, respecto del total de estados de la\n",
    "# secuencia.\n",
    "\n",
    "\n",
    "# Por ejemplo:\n",
    "\n",
    "# Función que calcula el porcentaje de coincidencias:\n",
    "def compara_secuencias(seq1,seq2):\n",
    "    return sum(x==y for x,y in zip(seq1,seq2))/len(seq1)\n",
    "\n",
    "\n",
    "# Generamos una secuencia de 20 estados y observaciones\n",
    "# >>> seq_e,seq_o=muestreo_hmm(robot_ej_hmm,20)\n",
    "\n",
    "# >>> seq_o \n",
    "# [(0, 0, 1, 1), (0, 1, 1, 0), (1, 1, 0, 0),....]\n",
    "\n",
    "# >>> seq_e\n",
    "# [(2, 5),(3, 5), (3, 4), (3, 3), (3, 4), ....]\n",
    " \n",
    "# >>> seq_estimada=viterbi(robot_ej_hmm,seq_o)\n",
    "\n",
    "# >>> seq_estimada\n",
    "# [(2, 5),(3, 5),(3, 4),(3, 3),(3, 4),(3, 5),...]\n",
    " \n",
    "# Vemos, cuántas coincidencias hay, proporcinalmente al total de estados de la \n",
    "# secuencia:\n",
    "    \n",
    "# >>> compara_secuencias(seq_e,seq_estimada)\n",
    "# 0.95\n",
    "\n",
    "# -----------------------------------\n",
    "\n",
    "# Para mecanizar esta experimentación, definir una función\n",
    "\n",
    "#     experimento_hmm_robot_viterbi(cuadricula,epsilon,n,m) \n",
    "\n",
    "def experimento_hmm_robot_viterbi(cuadricula,epsilon,n,m):\n",
    "    lista = []\n",
    "    rob = Robot(cuadricula, epsilon)\n",
    "    for _ in range(m):\n",
    "        seq_e,seq_o=muestreo_hmm(rob,n)\n",
    "        seq_estimada=viterbi(rob,seq_o)\n",
    "        b = compara_secuencias(seq_e,seq_estimada)\n",
    "        lista.append(b)\n",
    "    return sum(lista)/len(lista)\n",
    "        \n",
    "\n",
    "# que genera el HMM correspondiente a la cuadrícula y al epsilon, y realiza \n",
    "# m experimentos, como se ha descrito:\n",
    "    \n",
    "# - generar en cada uno de ellos una secuencia de n observaciones y estados \n",
    "#  (con muestreo_hmm)\n",
    "# - con la secuencia de observaciones, llamar a viterbi para estimar la \n",
    "#   secuencia de estados más probable\n",
    "# - calcular qué proporción de coincidencias hay entre la secuencia de estados real \n",
    "#   y la que ha estimado viterbi \n",
    "# Y devuelve la media de los m experimentos. \n",
    "\n",
    "# Experimentar al menos con la cuadrícula del ejemplo y con varios valores de\n",
    "# n, con varios valores de epsilon y con un m suficientemente grande para que \n",
    "# la media devuelta sea significativa del rendimiento del algoritmo. \n",
    "\n",
    "\n",
    "\n",
    "\n"
   ]
  },
  {
   "cell_type": "code",
   "execution_count": 30,
   "metadata": {},
   "outputs": [
    {
     "data": {
      "text/plain": [
       "0.008100000000000001"
      ]
     },
     "execution_count": 30,
     "metadata": {},
     "output_type": "execute_result"
    }
   ],
   "source": [
    "Robot1=Robot(cuadr0, 0.1)\n",
    "calcula_probabilidad((0,0), (0,0,0,0), 0.1, crea_estados(cuadr0))"
   ]
  },
  {
   "cell_type": "code",
   "execution_count": 31,
   "metadata": {},
   "outputs": [
    {
     "data": {
      "text/plain": [
       "[(3, 4), (3, 3), (3, 4), (3, 3), (3, 4), (3, 5), (3, 4)]"
      ]
     },
     "execution_count": 31,
     "metadata": {},
     "output_type": "execute_result"
    }
   ],
   "source": [
    "cuadr_ej=     [\"ooooxoooooxoooxo\",\n",
    "                \"xxooxoxxoxoxExxo\",\n",
    "                \"xoEoxoxxoooooxxo\",\n",
    "                \"ooxooExooooxoooo\"]\n",
    "robot_ej_hmm=Robot(cuadr_ej,0.15)\n",
    "seq_ej1=[(1, 1, 0, 0), (0, 1, 0, 0), (0, 1, 0, 1), (0, 1, 0, 1), (1, 1, 0, 0),(0, 1, 1, 0),(1, 1, 0, 0)]\n",
    "viterbi(robot_ej_hmm,seq_ej1)"
   ]
  },
  {
   "cell_type": "code",
   "execution_count": 32,
   "metadata": {},
   "outputs": [
    {
     "data": {
      "text/plain": [
       "{((0, 0), (0, 0, 0, 0)): 0.008100000000000001,\n",
       " ((0, 0), (0, 0, 0, 1)): 0.0729,\n",
       " ((0, 0), (0, 0, 1, 0)): 0.0009000000000000002,\n",
       " ((0, 0), (0, 0, 1, 1)): 0.008100000000000001,\n",
       " ((0, 0), (0, 1, 0, 0)): 0.0009000000000000002,\n",
       " ((0, 0), (0, 1, 0, 1)): 0.008100000000000001,\n",
       " ((0, 0), (0, 1, 1, 0)): 0.00010000000000000002,\n",
       " ((0, 0), (0, 1, 1, 1)): 0.0009000000000000002,\n",
       " ((0, 0), (1, 0, 0, 0)): 0.0729,\n",
       " ((0, 0), (1, 0, 0, 1)): 0.6561,\n",
       " ((0, 0), (1, 0, 1, 0)): 0.008100000000000001,\n",
       " ((0, 0), (1, 0, 1, 1)): 0.0729,\n",
       " ((0, 0), (1, 1, 0, 0)): 0.008100000000000001,\n",
       " ((0, 0), (1, 1, 0, 1)): 0.0729,\n",
       " ((0, 0), (1, 1, 1, 0)): 0.0009000000000000002,\n",
       " ((0, 0), (1, 1, 1, 1)): 0.008100000000000001,\n",
       " ((0, 1), (0, 0, 0, 0)): 0.008100000000000001,\n",
       " ((0, 1), (0, 0, 0, 1)): 0.0009000000000000002,\n",
       " ((0, 1), (0, 0, 1, 0)): 0.0009000000000000002,\n",
       " ((0, 1), (0, 0, 1, 1)): 0.00010000000000000002,\n",
       " ((0, 1), (0, 1, 0, 0)): 0.0729,\n",
       " ((0, 1), (0, 1, 0, 1)): 0.008100000000000001,\n",
       " ((0, 1), (0, 1, 1, 0)): 0.008100000000000001,\n",
       " ((0, 1), (0, 1, 1, 1)): 0.0009000000000000002,\n",
       " ((0, 1), (1, 0, 0, 0)): 0.0729,\n",
       " ((0, 1), (1, 0, 0, 1)): 0.008100000000000001,\n",
       " ((0, 1), (1, 0, 1, 0)): 0.008100000000000001,\n",
       " ((0, 1), (1, 0, 1, 1)): 0.0009000000000000002,\n",
       " ((0, 1), (1, 1, 0, 0)): 0.6561,\n",
       " ((0, 1), (1, 1, 0, 1)): 0.0729,\n",
       " ((0, 1), (1, 1, 1, 0)): 0.0729,\n",
       " ((0, 1), (1, 1, 1, 1)): 0.008100000000000001,\n",
       " ((0, 2), (0, 0, 0, 0)): 0.008100000000000001,\n",
       " ((0, 2), (0, 0, 0, 1)): 0.0009000000000000002,\n",
       " ((0, 2), (0, 0, 1, 0)): 0.0729,\n",
       " ((0, 2), (0, 0, 1, 1)): 0.008100000000000001,\n",
       " ((0, 2), (0, 1, 0, 0)): 0.0009000000000000002,\n",
       " ((0, 2), (0, 1, 0, 1)): 0.00010000000000000002,\n",
       " ((0, 2), (0, 1, 1, 0)): 0.008100000000000001,\n",
       " ((0, 2), (0, 1, 1, 1)): 0.0009000000000000002,\n",
       " ((0, 2), (1, 0, 0, 0)): 0.0729,\n",
       " ((0, 2), (1, 0, 0, 1)): 0.008100000000000001,\n",
       " ((0, 2), (1, 0, 1, 0)): 0.6561,\n",
       " ((0, 2), (1, 0, 1, 1)): 0.0729,\n",
       " ((0, 2), (1, 1, 0, 0)): 0.008100000000000001,\n",
       " ((0, 2), (1, 1, 0, 1)): 0.0009000000000000002,\n",
       " ((0, 2), (1, 1, 1, 0)): 0.0729,\n",
       " ((0, 2), (1, 1, 1, 1)): 0.008100000000000001,\n",
       " ((1, 0), (0, 0, 0, 0)): 0.008100000000000001,\n",
       " ((1, 0), (0, 0, 0, 1)): 0.0729,\n",
       " ((1, 0), (0, 0, 1, 0)): 0.0729,\n",
       " ((1, 0), (0, 0, 1, 1)): 0.6561,\n",
       " ((1, 0), (0, 1, 0, 0)): 0.0009000000000000002,\n",
       " ((1, 0), (0, 1, 0, 1)): 0.008100000000000001,\n",
       " ((1, 0), (0, 1, 1, 0)): 0.008100000000000001,\n",
       " ((1, 0), (0, 1, 1, 1)): 0.0729,\n",
       " ((1, 0), (1, 0, 0, 0)): 0.0009000000000000002,\n",
       " ((1, 0), (1, 0, 0, 1)): 0.008100000000000001,\n",
       " ((1, 0), (1, 0, 1, 0)): 0.008100000000000001,\n",
       " ((1, 0), (1, 0, 1, 1)): 0.0729,\n",
       " ((1, 0), (1, 1, 0, 0)): 0.00010000000000000002,\n",
       " ((1, 0), (1, 1, 0, 1)): 0.0009000000000000002,\n",
       " ((1, 0), (1, 1, 1, 0)): 0.0009000000000000002,\n",
       " ((1, 0), (1, 1, 1, 1)): 0.008100000000000001,\n",
       " ((1, 2), (0, 0, 0, 0)): 0.008100000000000001,\n",
       " ((1, 2), (0, 0, 0, 1)): 0.0729,\n",
       " ((1, 2), (0, 0, 1, 0)): 0.0729,\n",
       " ((1, 2), (0, 0, 1, 1)): 0.6561,\n",
       " ((1, 2), (0, 1, 0, 0)): 0.0009000000000000002,\n",
       " ((1, 2), (0, 1, 0, 1)): 0.008100000000000001,\n",
       " ((1, 2), (0, 1, 1, 0)): 0.008100000000000001,\n",
       " ((1, 2), (0, 1, 1, 1)): 0.0729,\n",
       " ((1, 2), (1, 0, 0, 0)): 0.0009000000000000002,\n",
       " ((1, 2), (1, 0, 0, 1)): 0.008100000000000001,\n",
       " ((1, 2), (1, 0, 1, 0)): 0.008100000000000001,\n",
       " ((1, 2), (1, 0, 1, 1)): 0.0729,\n",
       " ((1, 2), (1, 1, 0, 0)): 0.00010000000000000002,\n",
       " ((1, 2), (1, 1, 0, 1)): 0.0009000000000000002,\n",
       " ((1, 2), (1, 1, 1, 0)): 0.0009000000000000002,\n",
       " ((1, 2), (1, 1, 1, 1)): 0.008100000000000001,\n",
       " ((2, 0), (0, 0, 0, 0)): 0.008100000000000001,\n",
       " ((2, 0), (0, 0, 0, 1)): 0.0729,\n",
       " ((2, 0), (0, 0, 1, 0)): 0.0009000000000000002,\n",
       " ((2, 0), (0, 0, 1, 1)): 0.008100000000000001,\n",
       " ((2, 0), (0, 1, 0, 0)): 0.0729,\n",
       " ((2, 0), (0, 1, 0, 1)): 0.6561,\n",
       " ((2, 0), (0, 1, 1, 0)): 0.008100000000000001,\n",
       " ((2, 0), (0, 1, 1, 1)): 0.0729,\n",
       " ((2, 0), (1, 0, 0, 0)): 0.0009000000000000002,\n",
       " ((2, 0), (1, 0, 0, 1)): 0.008100000000000001,\n",
       " ((2, 0), (1, 0, 1, 0)): 0.00010000000000000002,\n",
       " ((2, 0), (1, 0, 1, 1)): 0.0009000000000000002,\n",
       " ((2, 0), (1, 1, 0, 0)): 0.008100000000000001,\n",
       " ((2, 0), (1, 1, 0, 1)): 0.0729,\n",
       " ((2, 0), (1, 1, 1, 0)): 0.0009000000000000002,\n",
       " ((2, 0), (1, 1, 1, 1)): 0.008100000000000001,\n",
       " ((2, 1), (0, 0, 0, 0)): 0.008100000000000001,\n",
       " ((2, 1), (0, 0, 0, 1)): 0.0009000000000000002,\n",
       " ((2, 1), (0, 0, 1, 0)): 0.0009000000000000002,\n",
       " ((2, 1), (0, 0, 1, 1)): 0.00010000000000000002,\n",
       " ((2, 1), (0, 1, 0, 0)): 0.0729,\n",
       " ((2, 1), (0, 1, 0, 1)): 0.008100000000000001,\n",
       " ((2, 1), (0, 1, 1, 0)): 0.008100000000000001,\n",
       " ((2, 1), (0, 1, 1, 1)): 0.0009000000000000002,\n",
       " ((2, 1), (1, 0, 0, 0)): 0.0729,\n",
       " ((2, 1), (1, 0, 0, 1)): 0.008100000000000001,\n",
       " ((2, 1), (1, 0, 1, 0)): 0.008100000000000001,\n",
       " ((2, 1), (1, 0, 1, 1)): 0.0009000000000000002,\n",
       " ((2, 1), (1, 1, 0, 0)): 0.6561,\n",
       " ((2, 1), (1, 1, 0, 1)): 0.0729,\n",
       " ((2, 1), (1, 1, 1, 0)): 0.0729,\n",
       " ((2, 1), (1, 1, 1, 1)): 0.008100000000000001,\n",
       " ((2, 2), (0, 0, 0, 0)): 0.008100000000000001,\n",
       " ((2, 2), (0, 0, 0, 1)): 0.0009000000000000002,\n",
       " ((2, 2), (0, 0, 1, 0)): 0.0729,\n",
       " ((2, 2), (0, 0, 1, 1)): 0.008100000000000001,\n",
       " ((2, 2), (0, 1, 0, 0)): 0.0729,\n",
       " ((2, 2), (0, 1, 0, 1)): 0.008100000000000001,\n",
       " ((2, 2), (0, 1, 1, 0)): 0.6561,\n",
       " ((2, 2), (0, 1, 1, 1)): 0.0729,\n",
       " ((2, 2), (1, 0, 0, 0)): 0.0009000000000000002,\n",
       " ((2, 2), (1, 0, 0, 1)): 0.00010000000000000002,\n",
       " ((2, 2), (1, 0, 1, 0)): 0.008100000000000001,\n",
       " ((2, 2), (1, 0, 1, 1)): 0.0009000000000000002,\n",
       " ((2, 2), (1, 1, 0, 0)): 0.008100000000000001,\n",
       " ((2, 2), (1, 1, 0, 1)): 0.0009000000000000002,\n",
       " ((2, 2), (1, 1, 1, 0)): 0.0729,\n",
       " ((2, 2), (1, 1, 1, 1)): 0.008100000000000001}"
      ]
     },
     "execution_count": 32,
     "metadata": {},
     "output_type": "execute_result"
    }
   ],
   "source": [
    "Robot1.b\n"
   ]
  },
  {
   "cell_type": "markdown",
   "metadata": {},
   "source": [
    "En principio, para poder aplicar estas operaciones entre arrays, se deben aplicar sobre arrays con las mismas dimensiones (el mismo `shape`). Es posible operar entre arrays de distintas dimensiones, con el mecanismo de *broadcasting*, pero es ésta una característica avanzada de numpy que no veremos aquí.  "
   ]
  },
  {
   "cell_type": "markdown",
   "metadata": {},
   "source": [
    "Podemos efectuar operaciones entre arrays y números (*escalares*), indicando con ello que la operación con el escalar se aplica a cada uno de los componentes del array. Vemos algunos ejemplos: "
   ]
  },
  {
   "cell_type": "code",
   "execution_count": 33,
   "metadata": {},
   "outputs": [
    {
     "data": {
      "text/plain": [
       "array([[ 11.1, -19. ,  15.3],\n",
       "       [  9.1,  10.8,  12.2]])"
      ]
     },
     "execution_count": 33,
     "metadata": {},
     "output_type": "execute_result"
    }
   ],
   "source": [
    "3+B"
   ]
  },
  {
   "cell_type": "code",
   "execution_count": 34,
   "metadata": {},
   "outputs": [
    {
     "data": {
      "text/plain": [
       "array([[1.    , 0.5   , 0.3333],\n",
       "       [0.25  , 0.2   , 0.1667]])"
      ]
     },
     "execution_count": 34,
     "metadata": {},
     "output_type": "execute_result"
    }
   ],
   "source": [
    "1 / A"
   ]
  },
  {
   "cell_type": "code",
   "execution_count": 35,
   "metadata": {},
   "outputs": [
    {
     "data": {
      "text/plain": [
       "array([[1.    , 1.4142, 1.7321],\n",
       "       [2.    , 2.2361, 2.4495]])"
      ]
     },
     "execution_count": 35,
     "metadata": {},
     "output_type": "execute_result"
    }
   ],
   "source": [
    "A ** 0.5"
   ]
  },
  {
   "cell_type": "markdown",
   "metadata": {},
   "source": [
    "Igualmente, podemos efectuar comparaciones aritméticas entre dos arrays, obteniendo el correspondiente array de booleanos como resultado:"
   ]
  },
  {
   "cell_type": "code",
   "execution_count": 36,
   "metadata": {},
   "outputs": [
    {
     "data": {
      "text/plain": [
       "array([[False,  True, False],\n",
       "       [ True,  True,  True]])"
      ]
     },
     "execution_count": 36,
     "metadata": {},
     "output_type": "execute_result"
    }
   ],
   "source": [
    "A > B-5"
   ]
  },
  {
   "cell_type": "markdown",
   "metadata": {},
   "source": [
    "En todos los casos anteriores, nótese que estas operaciones no modifican los arrays sobre los que se aplican, sino que obtienen un nuevo array con el correspondiente resultado."
   ]
  },
  {
   "cell_type": "markdown",
   "metadata": {},
   "source": [
    "### Indexado y *slicing* (operaciones básicas) "
   ]
  },
  {
   "cell_type": "markdown",
   "metadata": {},
   "source": [
    "Otra de las características más interesantes de numpy es la gran flexibilidad para acceder a las componentes de un array, o a un subconjunto del mismo. Vamos a ver a continuación algunos ejemplos básicos."
   ]
  },
  {
   "cell_type": "markdown",
   "metadata": {},
   "source": [
    "**Arrays unidimensonales**"
   ]
  },
  {
   "cell_type": "markdown",
   "metadata": {},
   "source": [
    "Para arrays unidimensionales, el acceso es muy parecido al de listas. Por ejemplo, acceso a las componentes:"
   ]
  },
  {
   "cell_type": "code",
   "execution_count": 37,
   "metadata": {},
   "outputs": [
    {
     "data": {
      "text/plain": [
       "array([ 0,  2,  4,  6,  8, 10, 12, 14, 16, 18])"
      ]
     },
     "execution_count": 37,
     "metadata": {},
     "output_type": "execute_result"
    }
   ],
   "source": [
    "C = np.arange(10)*2\n",
    "C"
   ]
  },
  {
   "cell_type": "code",
   "execution_count": 38,
   "metadata": {},
   "outputs": [
    {
     "data": {
      "text/plain": [
       "10"
      ]
     },
     "execution_count": 38,
     "metadata": {},
     "output_type": "execute_result"
    }
   ],
   "source": [
    "C[5]"
   ]
  },
  {
   "cell_type": "markdown",
   "metadata": {},
   "source": [
    "La operación de *slicing* en arrays es similar a la de listas. Por ejemplo:"
   ]
  },
  {
   "cell_type": "code",
   "execution_count": 39,
   "metadata": {},
   "outputs": [
    {
     "data": {
      "text/plain": [
       "array([10, 12, 14])"
      ]
     },
     "execution_count": 39,
     "metadata": {},
     "output_type": "execute_result"
    }
   ],
   "source": [
    "C[5:8]"
   ]
  },
  {
   "cell_type": "markdown",
   "metadata": {},
   "source": [
    "Sin embargo, hay una diferencia fundamental: en general en python, el slicing siempre crea *una copia* de la secuencia original. En numpy, el *slicing* es una *vista* de array original. Esto tiene como consecuencia que las modificaciones que se realicen sobre dicha vista se están realizando sobre el array original. Por ejemplo:   "
   ]
  },
  {
   "cell_type": "code",
   "execution_count": 40,
   "metadata": {},
   "outputs": [
    {
     "data": {
      "text/plain": [
       "array([ 0,  2,  4,  6,  8, 12, 12, 12, 16, 18])"
      ]
     },
     "execution_count": 40,
     "metadata": {},
     "output_type": "execute_result"
    }
   ],
   "source": [
    "C[5:8] = 12\n",
    "C"
   ]
  },
  {
   "cell_type": "markdown",
   "metadata": {},
   "source": [
    "Y además hay que tener en cuenta que cualquier referencia a una vista es en realidad una referencia a los datos originales, y que las modificaciones que se realicen a través de esa referencia, se realizarán igualmente sobre el original.\n",
    "\n",
    "Veámos esto con el siguiente ejemplo:"
   ]
  },
  {
   "cell_type": "code",
   "execution_count": 41,
   "metadata": {},
   "outputs": [
    {
     "data": {
      "text/plain": [
       "array([12, 12, 12])"
      ]
     },
     "execution_count": 41,
     "metadata": {},
     "output_type": "execute_result"
    }
   ],
   "source": [
    "# C_slice referencia a las componenentes 5, 6 y 7 del array C.\n",
    "C_slice = C[5:8]\n",
    "C_slice"
   ]
  },
  {
   "cell_type": "markdown",
   "metadata": {},
   "source": [
    "Modificamos la componente 1 de `C_slice`:"
   ]
  },
  {
   "cell_type": "code",
   "execution_count": 42,
   "metadata": {},
   "outputs": [
    {
     "data": {
      "text/plain": [
       "array([   12, 12345,    12])"
      ]
     },
     "execution_count": 42,
     "metadata": {},
     "output_type": "execute_result"
    }
   ],
   "source": [
    "C_slice[1] = 12345\n",
    "C_slice"
   ]
  },
  {
   "cell_type": "markdown",
   "metadata": {},
   "source": [
    "Pero la componente 1 de `C_slice` es en realidad la componente 6 de `C`, así que `C` ha cambiado:"
   ]
  },
  {
   "cell_type": "code",
   "execution_count": 43,
   "metadata": {},
   "outputs": [
    {
     "data": {
      "text/plain": [
       "array([    0,     2,     4,     6,     8,    12, 12345,    12,    16,\n",
       "          18])"
      ]
     },
     "execution_count": 43,
     "metadata": {},
     "output_type": "execute_result"
    }
   ],
   "source": [
    "C"
   ]
  },
  {
   "cell_type": "markdown",
   "metadata": {},
   "source": [
    "Podemos incluso cambiar toda la subsecuencia, cambiando así es parte del array original:"
   ]
  },
  {
   "cell_type": "code",
   "execution_count": 44,
   "metadata": {},
   "outputs": [
    {
     "data": {
      "text/plain": [
       "array([ 0,  2,  4,  6,  8, 64, 64, 64, 16, 18])"
      ]
     },
     "execution_count": 44,
     "metadata": {},
     "output_type": "execute_result"
    }
   ],
   "source": [
    "C_slice[:] = 64\n",
    "C"
   ]
  },
  {
   "cell_type": "markdown",
   "metadata": {},
   "source": [
    "Nótese la diferencia con las listas de python, en las que `l[:]` es la manera estándar de crear una *copia* de una lista `l`. En el caso de *numpy*, si se quiere realizar una copia, se ha de usar el método `copy` (por ejemplo, `C.copy()`)."
   ]
  },
  {
   "cell_type": "markdown",
   "metadata": {},
   "source": [
    "**Arrays de más dimensiones**"
   ]
  },
  {
   "cell_type": "markdown",
   "metadata": {},
   "source": [
    "El acceso a los componentes de arrays de dos o más dimensiones es similar, aunque la casuística es más variada."
   ]
  },
  {
   "cell_type": "markdown",
   "metadata": {},
   "source": [
    "Cuando accedemos con un único índice, estamos accediendo al correspondiente subarray de esa posición. Por ejemplo, en array de dos dimensiones, con 3 filas y 3 columnas, la posición 2 es la tercera fila:"
   ]
  },
  {
   "cell_type": "code",
   "execution_count": 45,
   "metadata": {},
   "outputs": [
    {
     "data": {
      "text/plain": [
       "array([7, 8, 9])"
      ]
     },
     "execution_count": 45,
     "metadata": {},
     "output_type": "execute_result"
    }
   ],
   "source": [
    "C2d = np.array([[1, 2, 3], [4, 5, 6], [7, 8, 9]])\n",
    "C2d[2]"
   ]
  },
  {
   "cell_type": "markdown",
   "metadata": {},
   "source": [
    "De esta manera, recursivamente, podríamos acceder a los componentes individuales de una array de cualquier dimensión. En el ejemplo anterior, el elemento de la primera fila y la tercera columna sería:"
   ]
  },
  {
   "cell_type": "code",
   "execution_count": 46,
   "metadata": {},
   "outputs": [
    {
     "data": {
      "text/plain": [
       "3"
      ]
     },
     "execution_count": 46,
     "metadata": {},
     "output_type": "execute_result"
    }
   ],
   "source": [
    "C2d[0][2]"
   ]
  },
  {
   "cell_type": "markdown",
   "metadata": {},
   "source": [
    "Normalmente no se suele usar la notación anterior para acceder a los elementos individuales, sino que se usa un único corchete con los índices separados por comas: Lo siguiente es equivalente:"
   ]
  },
  {
   "cell_type": "code",
   "execution_count": 47,
   "metadata": {},
   "outputs": [
    {
     "data": {
      "text/plain": [
       "3"
      ]
     },
     "execution_count": 47,
     "metadata": {},
     "output_type": "execute_result"
    }
   ],
   "source": [
    "C2d[0, 2]"
   ]
  },
  {
   "cell_type": "markdown",
   "metadata": {},
   "source": [
    "Veamos más ejemplos de acceso y modificación en arrays multidimensionales, en este caso con tres dimensiones."
   ]
  },
  {
   "cell_type": "code",
   "execution_count": 48,
   "metadata": {},
   "outputs": [],
   "source": [
    "C3d = np.array([[[1, 2, 3], [4, 5, 6]], [[7, 8, 9], [10, 11, 12]]])"
   ]
  },
  {
   "cell_type": "markdown",
   "metadata": {},
   "source": [
    "Accediendo a la posición 0 obtenemos el correspondiente subarray de dos dimensiones:"
   ]
  },
  {
   "cell_type": "code",
   "execution_count": 49,
   "metadata": {},
   "outputs": [
    {
     "data": {
      "text/plain": [
       "array([[1, 2, 3],\n",
       "       [4, 5, 6]])"
      ]
     },
     "execution_count": 49,
     "metadata": {},
     "output_type": "execute_result"
    }
   ],
   "source": [
    "C3d[0]"
   ]
  },
  {
   "cell_type": "markdown",
   "metadata": {},
   "source": [
    "Vamos a guardar una copia de de ese subarray y lo modificamos en el original con el número `42` en todas las posiciones:"
   ]
  },
  {
   "cell_type": "code",
   "execution_count": 50,
   "metadata": {},
   "outputs": [
    {
     "data": {
      "text/plain": [
       "array([[[42, 42, 42],\n",
       "        [42, 42, 42]],\n",
       "\n",
       "       [[ 7,  8,  9],\n",
       "        [10, 11, 12]]])"
      ]
     },
     "execution_count": 50,
     "metadata": {},
     "output_type": "execute_result"
    }
   ],
   "source": [
    "old_values = C3d[0].copy()\n",
    "C3d[0] = 42\n",
    "C3d"
   ]
  },
  {
   "cell_type": "markdown",
   "metadata": {},
   "source": [
    "Y ahora reestablecemos los valores originales:"
   ]
  },
  {
   "cell_type": "code",
   "execution_count": 51,
   "metadata": {},
   "outputs": [
    {
     "data": {
      "text/plain": [
       "array([[[ 1,  2,  3],\n",
       "        [ 4,  5,  6]],\n",
       "\n",
       "       [[ 7,  8,  9],\n",
       "        [10, 11, 12]]])"
      ]
     },
     "execution_count": 51,
     "metadata": {},
     "output_type": "execute_result"
    }
   ],
   "source": [
    "C3d[0] = old_values\n",
    "C3d"
   ]
  },
  {
   "cell_type": "markdown",
   "metadata": {},
   "source": [
    "Como antes, podemos en este array de tres adimensiones acceder a una de sus componentes, especificando los tres índices: "
   ]
  },
  {
   "cell_type": "code",
   "execution_count": 52,
   "metadata": {},
   "outputs": [
    {
     "data": {
      "text/plain": [
       "9"
      ]
     },
     "execution_count": 52,
     "metadata": {},
     "output_type": "execute_result"
    }
   ],
   "source": [
    "C3d[1,0,2]"
   ]
  },
  {
   "cell_type": "markdown",
   "metadata": {},
   "source": [
    "Si sólo especificamos dos de los tres índices, accedemos al correspondiente subarray unidimensional:"
   ]
  },
  {
   "cell_type": "code",
   "execution_count": 53,
   "metadata": {},
   "outputs": [
    {
     "data": {
      "text/plain": [
       "array([7, 8, 9])"
      ]
     },
     "execution_count": 53,
     "metadata": {},
     "output_type": "execute_result"
    }
   ],
   "source": [
    "C3d[1, 0]"
   ]
  },
  {
   "cell_type": "markdown",
   "metadata": {},
   "source": [
    "#### Indexado usando *slices*"
   ]
  },
  {
   "cell_type": "code",
   "execution_count": 54,
   "metadata": {},
   "outputs": [
    {
     "data": {
      "text/plain": [
       "array([[1, 2, 3],\n",
       "       [4, 5, 6],\n",
       "       [7, 8, 9]])"
      ]
     },
     "execution_count": 54,
     "metadata": {},
     "output_type": "execute_result"
    }
   ],
   "source": [
    "C2d"
   ]
  },
  {
   "cell_type": "markdown",
   "metadata": {},
   "source": [
    "Los *slicings* en arrays multidimensionales se hacen a lo largo de los correspondientes ejes. Por ejemplo, en un array bidimensional, lo haríamos sobre la secuencia de filas. "
   ]
  },
  {
   "cell_type": "code",
   "execution_count": 55,
   "metadata": {},
   "outputs": [
    {
     "data": {
      "text/plain": [
       "array([[1, 2, 3],\n",
       "       [4, 5, 6]])"
      ]
     },
     "execution_count": 55,
     "metadata": {},
     "output_type": "execute_result"
    }
   ],
   "source": [
    "C2d[:2]"
   ]
  },
  {
   "cell_type": "markdown",
   "metadata": {},
   "source": [
    "Pero también podríamos hacerlo en ambos ejes. Por ejemplo para obtener el subarray hasta la segunda fila y a partir de la primera columna:"
   ]
  },
  {
   "cell_type": "code",
   "execution_count": 56,
   "metadata": {},
   "outputs": [
    {
     "data": {
      "text/plain": [
       "array([[2, 3],\n",
       "       [5, 6]])"
      ]
     },
     "execution_count": 56,
     "metadata": {},
     "output_type": "execute_result"
    }
   ],
   "source": [
    "C2d[:2, 1:]"
   ]
  },
  {
   "cell_type": "markdown",
   "metadata": {},
   "source": [
    "Si en alguno de los ejes se usa un índice individual, entonces se pierde una de las dimensiones:"
   ]
  },
  {
   "cell_type": "code",
   "execution_count": 57,
   "metadata": {},
   "outputs": [
    {
     "data": {
      "text/plain": [
       "array([4, 5])"
      ]
     },
     "execution_count": 57,
     "metadata": {},
     "output_type": "execute_result"
    }
   ],
   "source": [
    "C2d[1, :2]"
   ]
  },
  {
   "cell_type": "markdown",
   "metadata": {},
   "source": [
    "Nótese la diferencia con la operación `C2d[1:2,:2]`. Puede parecer que el resultado ha de ser el mismo, pero si se usa slicing en ambos ejes se mantiene el número de dimensiones:"
   ]
  },
  {
   "cell_type": "code",
   "execution_count": 58,
   "metadata": {},
   "outputs": [
    {
     "data": {
      "text/plain": [
       "array([[4, 5]])"
      ]
     },
     "execution_count": 58,
     "metadata": {},
     "output_type": "execute_result"
    }
   ],
   "source": [
    "C2d[1:2,:2] # si haces slicing no baja el número de dimensiones, si haces indexado sí"
   ]
  },
  {
   "cell_type": "markdown",
   "metadata": {},
   "source": [
    "Más ejemplos:"
   ]
  },
  {
   "cell_type": "code",
   "execution_count": 59,
   "metadata": {},
   "outputs": [
    {
     "data": {
      "text/plain": [
       "array([3, 6])"
      ]
     },
     "execution_count": 59,
     "metadata": {},
     "output_type": "execute_result"
    }
   ],
   "source": [
    "C2d[:2, 2]"
   ]
  },
  {
   "cell_type": "code",
   "execution_count": 60,
   "metadata": {},
   "outputs": [
    {
     "data": {
      "text/plain": [
       "array([[1],\n",
       "       [4],\n",
       "       [7]])"
      ]
     },
     "execution_count": 60,
     "metadata": {},
     "output_type": "execute_result"
    }
   ],
   "source": [
    "C2d[:, :1]"
   ]
  },
  {
   "cell_type": "markdown",
   "metadata": {},
   "source": [
    "Como hemos visto más arriba, podemos usar *slicing* para asignar valores a las componentes de un array. Por ejemplo"
   ]
  },
  {
   "cell_type": "code",
   "execution_count": 61,
   "metadata": {},
   "outputs": [
    {
     "data": {
      "text/plain": [
       "array([[1, 0, 0],\n",
       "       [4, 0, 0],\n",
       "       [7, 8, 9]])"
      ]
     },
     "execution_count": 61,
     "metadata": {},
     "output_type": "execute_result"
    }
   ],
   "source": [
    "C2d[:2, 1:] = 0\n",
    "C2d"
   ]
  },
  {
   "cell_type": "markdown",
   "metadata": {},
   "source": [
    "### Indexado con booleanos"
   ]
  },
  {
   "cell_type": "markdown",
   "metadata": {},
   "source": [
    "Los arrays de booleanos se pueden usar en numpy como una forma de indexado para seleccionar determinadas componenetes en una serie de ejes. \n",
    "\n",
    "Veamos el siguiente ejemplo:"
   ]
  },
  {
   "cell_type": "code",
   "execution_count": 62,
   "metadata": {},
   "outputs": [],
   "source": [
    "nombres = np.array(['Bob', 'Joe', 'Will', 'Bob', 'Will', 'Joe', 'Joe'])"
   ]
  },
  {
   "cell_type": "code",
   "execution_count": 63,
   "metadata": {},
   "outputs": [
    {
     "data": {
      "text/plain": [
       "array([[ 0.0929,  0.2817,  0.769 ,  1.2464],\n",
       "       [ 1.0072, -1.2962,  0.275 ,  0.2289],\n",
       "       [ 1.3529,  0.8864, -2.0016, -0.3718],\n",
       "       [ 1.669 , -0.4386, -0.5397,  0.477 ],\n",
       "       [ 3.2489, -1.0212, -0.5771,  0.1241],\n",
       "       [ 0.3026,  0.5238,  0.0009,  1.3438],\n",
       "       [-0.7135, -0.8312, -2.3702, -1.8608]])"
      ]
     },
     "execution_count": 63,
     "metadata": {},
     "output_type": "execute_result"
    }
   ],
   "source": [
    "data = np.random.randn(7, 4)\n",
    "data"
   ]
  },
  {
   "cell_type": "markdown",
   "metadata": {},
   "source": [
    "Podríamos interpretar que cada fila del array `data` son datos asociados a las correspondientes personas del array `nombres`. Si ahora queremos quedarnos por ejemplos con las filas correspondientes a Bob, podemos usar indexado booleano de la siguiente manera:"
   ]
  },
  {
   "cell_type": "markdown",
   "metadata": {},
   "source": [
    "El array de booleanos que vamos a usar será:"
   ]
  },
  {
   "cell_type": "code",
   "execution_count": 64,
   "metadata": {},
   "outputs": [
    {
     "data": {
      "text/plain": [
       "array([ True, False, False,  True, False, False, False])"
      ]
     },
     "execution_count": 64,
     "metadata": {},
     "output_type": "execute_result"
    }
   ],
   "source": [
    "nombres == 'Bob'"
   ]
  },
  {
   "cell_type": "markdown",
   "metadata": {},
   "source": [
    "Y el indexado con ese array, en el eje de las filas, nos dará el subarray de las filas correspondientes a Bob:"
   ]
  },
  {
   "cell_type": "code",
   "execution_count": 65,
   "metadata": {},
   "outputs": [
    {
     "data": {
      "text/plain": [
       "array([[ 0.0929,  0.2817,  0.769 ,  1.2464],\n",
       "       [ 1.669 , -0.4386, -0.5397,  0.477 ]])"
      ]
     },
     "execution_count": 65,
     "metadata": {},
     "output_type": "execute_result"
    }
   ],
   "source": [
    "data[nombres == 'Bob']"
   ]
  },
  {
   "cell_type": "markdown",
   "metadata": {},
   "source": [
    "Podemos mezclar indexado booleano con índices concretos o con slicing en distintos ejes:"
   ]
  },
  {
   "cell_type": "code",
   "execution_count": 66,
   "metadata": {},
   "outputs": [
    {
     "data": {
      "text/plain": [
       "array([[ 0.769 ,  1.2464],\n",
       "       [-0.5397,  0.477 ]])"
      ]
     },
     "execution_count": 66,
     "metadata": {},
     "output_type": "execute_result"
    }
   ],
   "source": [
    "data[nombres == 'Bob', 2:]"
   ]
  },
  {
   "cell_type": "code",
   "execution_count": 67,
   "metadata": {},
   "outputs": [
    {
     "data": {
      "text/plain": [
       "array([1.2464, 0.477 ])"
      ]
     },
     "execution_count": 67,
     "metadata": {},
     "output_type": "execute_result"
    }
   ],
   "source": [
    "data[nombres == 'Bob', 3]"
   ]
  },
  {
   "cell_type": "markdown",
   "metadata": {},
   "source": [
    "Para usar el indexado complementario (en el ejemplo, las filas correspondientes a las personas que no son Bob), podríamos usar el array de booleanos `nombres != 'Bob'`. Sin embargo, es más habitual usar el operador `~`:"
   ]
  },
  {
   "cell_type": "code",
   "execution_count": 68,
   "metadata": {},
   "outputs": [
    {
     "data": {
      "text/plain": [
       "array([[ 1.0072, -1.2962,  0.275 ,  0.2289],\n",
       "       [ 1.3529,  0.8864, -2.0016, -0.3718],\n",
       "       [ 3.2489, -1.0212, -0.5771,  0.1241],\n",
       "       [ 0.3026,  0.5238,  0.0009,  1.3438],\n",
       "       [-0.7135, -0.8312, -2.3702, -1.8608]])"
      ]
     },
     "execution_count": 68,
     "metadata": {},
     "output_type": "execute_result"
    }
   ],
   "source": [
    "data[~(nombres == 'Bob')]"
   ]
  },
  {
   "cell_type": "markdown",
   "metadata": {},
   "source": [
    "Incluso podemos jugar con otros operadores booleanos como `&` (and) y `|` (or), para construir indexados booleanos que combinan condiciones. \n",
    "\n",
    "Por ejemplo, para obtener las filas correspondiente a Bob o a Will:"
   ]
  },
  {
   "cell_type": "code",
   "execution_count": 69,
   "metadata": {},
   "outputs": [
    {
     "data": {
      "text/plain": [
       "array([ True, False,  True,  True,  True, False, False])"
      ]
     },
     "execution_count": 69,
     "metadata": {},
     "output_type": "execute_result"
    }
   ],
   "source": [
    "mask = (nombres == 'Bob') | (nombres == 'Will')\n",
    "mask"
   ]
  },
  {
   "cell_type": "code",
   "execution_count": 70,
   "metadata": {},
   "outputs": [
    {
     "data": {
      "text/plain": [
       "array([[ 0.0929,  0.2817,  0.769 ,  1.2464],\n",
       "       [ 1.3529,  0.8864, -2.0016, -0.3718],\n",
       "       [ 1.669 , -0.4386, -0.5397,  0.477 ],\n",
       "       [ 3.2489, -1.0212, -0.5771,  0.1241]])"
      ]
     },
     "execution_count": 70,
     "metadata": {},
     "output_type": "execute_result"
    }
   ],
   "source": [
    "data[mask]"
   ]
  },
  {
   "cell_type": "markdown",
   "metadata": {},
   "source": [
    "Y como en los anteriores indexados, podemos usar el indexado booleano para modificar componentes de los arrays. Lo siguiente pone a 0 todos los componentes neativos de `data`:"
   ]
  },
  {
   "cell_type": "code",
   "execution_count": 71,
   "metadata": {},
   "outputs": [
    {
     "data": {
      "text/plain": [
       "array([[False, False, False, False],\n",
       "       [False,  True, False, False],\n",
       "       [False, False,  True,  True],\n",
       "       [False,  True,  True, False],\n",
       "       [False,  True,  True, False],\n",
       "       [False, False, False, False],\n",
       "       [ True,  True,  True,  True]])"
      ]
     },
     "execution_count": 71,
     "metadata": {},
     "output_type": "execute_result"
    }
   ],
   "source": [
    "data<0"
   ]
  },
  {
   "cell_type": "code",
   "execution_count": 72,
   "metadata": {},
   "outputs": [
    {
     "data": {
      "text/plain": [
       "array([[0.0929, 0.2817, 0.769 , 1.2464],\n",
       "       [1.0072, 0.    , 0.275 , 0.2289],\n",
       "       [1.3529, 0.8864, 0.    , 0.    ],\n",
       "       [1.669 , 0.    , 0.    , 0.477 ],\n",
       "       [3.2489, 0.    , 0.    , 0.1241],\n",
       "       [0.3026, 0.5238, 0.0009, 1.3438],\n",
       "       [0.    , 0.    , 0.    , 0.    ]])"
      ]
     },
     "execution_count": 72,
     "metadata": {},
     "output_type": "execute_result"
    }
   ],
   "source": [
    "data[data < 0] = 0\n",
    "data"
   ]
  },
  {
   "cell_type": "markdown",
   "metadata": {},
   "source": [
    "Obsérvese que ahora `data<0` es un array de booleanos bidimensional con la misma estructura que el propio `data` y que por tanto tanto estamos haciendo indexado booleano sobre ambos ejes. \n",
    "\n",
    "Podríamos incluso fijar un valor a filas completas, usando indexado por un booleano unidimensional:"
   ]
  },
  {
   "cell_type": "code",
   "execution_count": 73,
   "metadata": {},
   "outputs": [
    {
     "data": {
      "text/plain": [
       "array([[7.    , 7.    , 7.    , 7.    ],\n",
       "       [1.0072, 0.    , 0.275 , 0.2289],\n",
       "       [7.    , 7.    , 7.    , 7.    ],\n",
       "       [7.    , 7.    , 7.    , 7.    ],\n",
       "       [7.    , 7.    , 7.    , 7.    ],\n",
       "       [0.3026, 0.5238, 0.0009, 1.3438],\n",
       "       [0.    , 0.    , 0.    , 0.    ]])"
      ]
     },
     "execution_count": 73,
     "metadata": {},
     "output_type": "execute_result"
    }
   ],
   "source": [
    "data[~(nombres == 'Joe')] = 7\n",
    "data"
   ]
  },
  {
   "cell_type": "markdown",
   "metadata": {},
   "source": [
    "### *Fancy Indexing*"
   ]
  },
  {
   "cell_type": "markdown",
   "metadata": {},
   "source": [
    "El término *fancy indexing* se usa en numpy para indexado usando arrays de enteros. Veamos un ejemplo:"
   ]
  },
  {
   "cell_type": "code",
   "execution_count": 95,
   "metadata": {},
   "outputs": [
    {
     "data": {
      "text/plain": [
       "array([[0., 0., 0., 0.],\n",
       "       [1., 1., 1., 1.],\n",
       "       [2., 2., 2., 2.],\n",
       "       [3., 3., 3., 3.],\n",
       "       [4., 4., 4., 4.],\n",
       "       [5., 5., 5., 5.],\n",
       "       [6., 6., 6., 6.],\n",
       "       [7., 7., 7., 7.]])"
      ]
     },
     "execution_count": 95,
     "metadata": {},
     "output_type": "execute_result"
    }
   ],
   "source": [
    "arr = np.empty((8, 4))\n",
    "for i in range(8):\n",
    "    arr[i] = i\n",
    "arr"
   ]
  },
  {
   "cell_type": "markdown",
   "metadata": {},
   "source": [
    "Indexando con `[4,3,0,6]` nos permite obtener las filas indicadas en el orden dado:"
   ]
  },
  {
   "cell_type": "code",
   "execution_count": 96,
   "metadata": {},
   "outputs": [
    {
     "data": {
      "text/plain": [
       "array([[4., 4., 4., 4.],\n",
       "       [3., 3., 3., 3.],\n",
       "       [0., 0., 0., 0.],\n",
       "       [6., 6., 6., 6.]])"
      ]
     },
     "execution_count": 96,
     "metadata": {},
     "output_type": "execute_result"
    }
   ],
   "source": [
    "arr[[4, 3, 0, 6]]"
   ]
  },
  {
   "cell_type": "markdown",
   "metadata": {},
   "source": [
    "Si usamos más de un array para hacer *fancy indexing*, entonces toma los componentes descritos por la tupla de índices correspondiente al `zip` de los arrays de índices. Veámoslos con el siguiente ejemplo:"
   ]
  },
  {
   "cell_type": "code",
   "execution_count": 97,
   "metadata": {},
   "outputs": [
    {
     "data": {
      "text/plain": [
       "array([[ 0,  1,  2,  3],\n",
       "       [ 4,  5,  6,  7],\n",
       "       [ 8,  9, 10, 11],\n",
       "       [12, 13, 14, 15],\n",
       "       [16, 17, 18, 19],\n",
       "       [20, 21, 22, 23],\n",
       "       [24, 25, 26, 27],\n",
       "       [28, 29, 30, 31]])"
      ]
     },
     "execution_count": 97,
     "metadata": {},
     "output_type": "execute_result"
    }
   ],
   "source": [
    "arr = np.arange(32).reshape((8, 4))\n",
    "arr"
   ]
  },
  {
   "cell_type": "code",
   "execution_count": 100,
   "metadata": {},
   "outputs": [
    {
     "data": {
      "text/plain": [
       "array([ 4, 23, 29, 10])"
      ]
     },
     "execution_count": 100,
     "metadata": {},
     "output_type": "execute_result"
    }
   ],
   "source": [
    "arr[[1, 5, 7, 2], [0, 3, 1, 2]]"
   ]
  },
  {
   "cell_type": "markdown",
   "metadata": {},
   "source": [
    "Se han obtenido los elementos de índices `(1,0)`, `(5,3)`, `(7,1)` y `(2,2)`: "
   ]
  },
  {
   "cell_type": "markdown",
   "metadata": {},
   "source": [
    "Quizás en este último caso, lo \"natural\" sería que nos hubiera devuelto el subarray formado por las filas 1, 5, 7 y 2 (en ese orden), y de ahí solo las columnas 0, 3 , 1 y 2 (en ese orden. \n",
    "\n",
    "Para obtener eso debemos hacer la siguiente operación:"
   ]
  },
  {
   "cell_type": "code",
   "execution_count": 101,
   "metadata": {},
   "outputs": [
    {
     "data": {
      "text/plain": [
       "array([[ 4,  7,  5,  6],\n",
       "       [20, 23, 21, 22],\n",
       "       [28, 31, 29, 30],\n",
       "       [ 8, 11,  9, 10]])"
      ]
     },
     "execution_count": 101,
     "metadata": {},
     "output_type": "execute_result"
    }
   ],
   "source": [
    "arr[[1, 5, 7, 2]][:, [0, 3, 1, 2]]"
   ]
  },
  {
   "cell_type": "markdown",
   "metadata": {},
   "source": [
    "Dos observaciones importantes sobre el *fancy indexing*:\n",
    "\n",
    "* Siempre devuelve arrays unidimensionales.\n",
    "* A diferencia del *slicing*, siempre construye una copia del array sobre el que se aplica (nunca una *vista*). "
   ]
  },
  {
   "cell_type": "markdown",
   "metadata": {},
   "source": [
    "### Trasposición de arrays y producto matricial"
   ]
  },
  {
   "cell_type": "markdown",
   "metadata": {},
   "source": [
    "El método `T` obtiene el array traspuesto de uno dado:"
   ]
  },
  {
   "cell_type": "code",
   "execution_count": 102,
   "metadata": {},
   "outputs": [
    {
     "data": {
      "text/plain": [
       "array([[ 0,  1,  2,  3,  4],\n",
       "       [ 5,  6,  7,  8,  9],\n",
       "       [10, 11, 12, 13, 14]])"
      ]
     },
     "execution_count": 102,
     "metadata": {},
     "output_type": "execute_result"
    }
   ],
   "source": [
    "D = np.arange(15).reshape((3, 5))\n",
    "D"
   ]
  },
  {
   "cell_type": "code",
   "execution_count": 103,
   "metadata": {},
   "outputs": [
    {
     "data": {
      "text/plain": [
       "array([[ 0,  5, 10],\n",
       "       [ 1,  6, 11],\n",
       "       [ 2,  7, 12],\n",
       "       [ 3,  8, 13],\n",
       "       [ 4,  9, 14]])"
      ]
     },
     "execution_count": 103,
     "metadata": {},
     "output_type": "execute_result"
    }
   ],
   "source": [
    "D.T"
   ]
  },
  {
   "cell_type": "code",
   "execution_count": 104,
   "metadata": {},
   "outputs": [
    {
     "data": {
      "text/plain": [
       "array([[ 0,  1,  2,  3,  4],\n",
       "       [ 5,  6,  7,  8,  9],\n",
       "       [10, 11, 12, 13, 14]])"
      ]
     },
     "execution_count": 104,
     "metadata": {},
     "output_type": "execute_result"
    }
   ],
   "source": [
    "D"
   ]
  },
  {
   "cell_type": "markdown",
   "metadata": {},
   "source": [
    "En el cálculo matricial será de mucha utilidad el método `np.dot` de numpy, que sirve tanto para calcular el producto escalar como el producto matricial. Veamos varios usos: "
   ]
  },
  {
   "cell_type": "code",
   "execution_count": 108,
   "metadata": {},
   "outputs": [
    {
     "data": {
      "text/plain": [
       "array([[-0.0119,  1.0048,  1.3272],\n",
       "       [-0.9193, -1.5491,  0.0222],\n",
       "       [ 0.7584, -0.6605,  0.8626],\n",
       "       [-0.01  ,  0.05  ,  0.6702],\n",
       "       [ 0.853 , -0.9559, -0.0235],\n",
       "       [-2.3042, -0.6525, -1.2183]])"
      ]
     },
     "execution_count": 108,
     "metadata": {},
     "output_type": "execute_result"
    }
   ],
   "source": [
    "E = np.random.randn(6, 3)\n",
    "E"
   ]
  },
  {
   "cell_type": "markdown",
   "metadata": {},
   "source": [
    "Ejemplos de producto escalar:"
   ]
  },
  {
   "cell_type": "code",
   "execution_count": 109,
   "metadata": {},
   "outputs": [
    {
     "data": {
      "text/plain": [
       "1.5988144307734338"
      ]
     },
     "execution_count": 109,
     "metadata": {},
     "output_type": "execute_result"
    }
   ],
   "source": [
    "np.dot(E[:,0],E[:,1]) # producto escalar de dos columnas"
   ]
  },
  {
   "cell_type": "code",
   "execution_count": 110,
   "metadata": {},
   "outputs": [
    {
     "data": {
      "text/plain": [
       "1.257967004991232"
      ]
     },
     "execution_count": 110,
     "metadata": {},
     "output_type": "execute_result"
    }
   ],
   "source": [
    "np.dot(E[2],E[4]) # producto escalar de dos filas"
   ]
  },
  {
   "cell_type": "code",
   "execution_count": 111,
   "metadata": {},
   "outputs": [
    {
     "data": {
      "text/plain": [
       "array([7.4574, 1.5988, 3.3985])"
      ]
     },
     "execution_count": 111,
     "metadata": {},
     "output_type": "execute_result"
    }
   ],
   "source": [
    "np.dot(E.T, E[:,0]) # producto de una matriz por un vector"
   ]
  },
  {
   "cell_type": "code",
   "execution_count": 112,
   "metadata": {},
   "outputs": [
    {
     "data": {
      "text/plain": [
       "array([[7.4574, 1.5988, 3.3985],\n",
       "       [1.5988, 5.1876, 1.5803],\n",
       "       [3.3985, 1.5803, 4.44  ]])"
      ]
     },
     "execution_count": 112,
     "metadata": {},
     "output_type": "execute_result"
    }
   ],
   "source": [
    "np.dot(E.T,E)   # producto de dos matrices"
   ]
  },
  {
   "cell_type": "code",
   "execution_count": 113,
   "metadata": {},
   "outputs": [
    {
     "data": {
      "text/plain": [
       "array([[ 2.7712, -1.5162,  0.4721,  0.9399, -1.0018, -2.2452],\n",
       "       [-1.5162,  3.2453,  0.3452, -0.0534,  0.6961,  3.1019],\n",
       "       [ 0.4721,  0.3452,  1.7555,  0.5375,  1.258 , -2.3674],\n",
       "       [ 0.9399, -0.0534,  0.5375,  0.4518, -0.0721, -0.826 ],\n",
       "       [-1.0018,  0.6961,  1.258 , -0.0721,  1.6418, -1.3131],\n",
       "       [-2.2452,  3.1019, -2.3674, -0.826 , -1.3131,  7.2195]])"
      ]
     },
     "execution_count": 113,
     "metadata": {},
     "output_type": "execute_result"
    }
   ],
   "source": [
    "np.dot(E,E.T)   # producto de dos matrices"
   ]
  },
  {
   "cell_type": "code",
   "execution_count": 114,
   "metadata": {},
   "outputs": [
    {
     "data": {
      "text/plain": [
       "array([[7.4574],\n",
       "       [1.5988],\n",
       "       [3.3985]])"
      ]
     },
     "execution_count": 114,
     "metadata": {},
     "output_type": "execute_result"
    }
   ],
   "source": [
    "np.dot(E.T, E[:,:1]) # producto de dos matrices"
   ]
  },
  {
   "cell_type": "markdown",
   "metadata": {},
   "source": [
    "## Funciones universales sobre arrays (componente a componente)"
   ]
  },
  {
   "cell_type": "markdown",
   "metadata": {},
   "source": [
    "En este contexto, una función universal (o *ufunc*) es una función que actúa sobre cada componente de un array o arrays de numpy. Estas funciones son muy eficientes y se denominan *vectorizadas*. Por ejemplo:   "
   ]
  },
  {
   "cell_type": "code",
   "execution_count": 115,
   "metadata": {},
   "outputs": [
    {
     "data": {
      "text/plain": [
       "array([0, 1, 2, 3, 4, 5, 6, 7, 8, 9])"
      ]
     },
     "execution_count": 115,
     "metadata": {},
     "output_type": "execute_result"
    }
   ],
   "source": [
    "M = np.arange(10)\n",
    "M"
   ]
  },
  {
   "cell_type": "code",
   "execution_count": 116,
   "metadata": {},
   "outputs": [
    {
     "data": {
      "text/plain": [
       "array([0.    , 1.    , 1.4142, 1.7321, 2.    , 2.2361, 2.4495, 2.6458,\n",
       "       2.8284, 3.    ])"
      ]
     },
     "execution_count": 116,
     "metadata": {},
     "output_type": "execute_result"
    }
   ],
   "source": [
    "np.sqrt(M) # raiz cuadrada de cada componente"
   ]
  },
  {
   "cell_type": "code",
   "execution_count": 117,
   "metadata": {},
   "outputs": [
    {
     "data": {
      "text/plain": [
       "array([[   1.    ,    2.7183,    7.3891,   20.0855,   54.5982],\n",
       "       [ 148.4132,  403.4288, 1096.6332, 2980.958 , 8103.0839]])"
      ]
     },
     "execution_count": 117,
     "metadata": {},
     "output_type": "execute_result"
    }
   ],
   "source": [
    "np.exp(M.reshape(2,5)) # exponencial de cad componente"
   ]
  },
  {
   "cell_type": "markdown",
   "metadata": {},
   "source": [
    "Existen funciones universales que actúan sobre dos arrays, ya que realizan operaciones binarias:"
   ]
  },
  {
   "cell_type": "code",
   "execution_count": 118,
   "metadata": {},
   "outputs": [
    {
     "data": {
      "text/plain": [
       "(array([-1.3326,  1.0746,  0.7236,  0.69  ,  1.0015, -0.5031, -0.6223,\n",
       "        -0.9212]),\n",
       " array([-0.7262,  0.2229,  0.0513, -1.1577,  0.8167,  0.4336,  1.0107,\n",
       "         1.8249]))"
      ]
     },
     "execution_count": 118,
     "metadata": {},
     "output_type": "execute_result"
    }
   ],
   "source": [
    "x = np.random.randn(8)\n",
    "y = np.random.randn(8)\n",
    "x,y"
   ]
  },
  {
   "cell_type": "code",
   "execution_count": 119,
   "metadata": {},
   "outputs": [
    {
     "data": {
      "text/plain": [
       "array([-0.7262,  1.0746,  0.7236,  0.69  ,  1.0015,  0.4336,  1.0107,\n",
       "        1.8249])"
      ]
     },
     "execution_count": 119,
     "metadata": {},
     "output_type": "execute_result"
    }
   ],
   "source": [
    "np.maximum(x, y)"
   ]
  },
  {
   "cell_type": "markdown",
   "metadata": {},
   "source": [
    "Existe una numerosa colección de *ufuncs* tanto unarias como bianrias. Se recomienda consultar el manual. "
   ]
  },
  {
   "cell_type": "markdown",
   "metadata": {},
   "source": [
    "### Expresiones condicionales vectorizadas con *where*"
   ]
  },
  {
   "cell_type": "markdown",
   "metadata": {},
   "source": [
    "Veamos cómo podemos usar un versión vectorizada de la función `if`. \n",
    "\n",
    "Veámoslo con un ejemplo. Supongamos que tenemos dos arrays (unidimensionales) numéricos y otro array booleano del mismo tamaño: "
   ]
  },
  {
   "cell_type": "code",
   "execution_count": 120,
   "metadata": {},
   "outputs": [],
   "source": [
    "xarr = np.array([1.1, 1.2, 1.3, 1.4, 1.5])\n",
    "yarr = np.array([2.1, 2.2, 2.3, 2.4, 2.5])\n",
    "cond = np.array([True, False, True, True, False])"
   ]
  },
  {
   "cell_type": "markdown",
   "metadata": {},
   "source": [
    "Si quisiéramos obtener el array que en cada componente tiene el valor de `xs` si el correspondiente en `cond` es `True`, o el valor de `ys` si el correspondiente en `cond` es `False`, podemos hacer lo siguiente:  "
   ]
  },
  {
   "cell_type": "code",
   "execution_count": 121,
   "metadata": {},
   "outputs": [
    {
     "data": {
      "text/plain": [
       "[1.1, 2.2, 1.3, 1.4, 2.5]"
      ]
     },
     "execution_count": 121,
     "metadata": {},
     "output_type": "execute_result"
    }
   ],
   "source": [
    "result = [(x if c else y)\n",
    "          for x, y, c in zip(xarr, yarr, cond)]\n",
    "result"
   ]
  },
  {
   "cell_type": "markdown",
   "metadata": {},
   "source": [
    "Sin embargo, esto tiene dos problemas: no es lo suficientemente eficiente, y además no se traslada bien a arrays multidimensionales. Afortunadamente, tenemos `np.where` para hacer esto de manera conveniente:"
   ]
  },
  {
   "cell_type": "code",
   "execution_count": 122,
   "metadata": {},
   "outputs": [
    {
     "data": {
      "text/plain": [
       "array([1.1, 2.2, 1.3, 1.4, 2.5])"
      ]
     },
     "execution_count": 122,
     "metadata": {},
     "output_type": "execute_result"
    }
   ],
   "source": [
    "result = np.where(cond, xarr, yarr)\n",
    "result"
   ]
  },
  {
   "cell_type": "markdown",
   "metadata": {},
   "source": [
    "No necesariamente el segundo y el tercer argumento tiene que ser arrays. Por ejemplo:"
   ]
  },
  {
   "cell_type": "code",
   "execution_count": 123,
   "metadata": {},
   "outputs": [
    {
     "data": {
      "text/plain": [
       "(array([[-0.9975,  0.8506, -0.1316,  0.9124],\n",
       "        [ 0.1882,  2.1695, -0.1149,  2.0037],\n",
       "        [ 0.0296,  0.7953,  0.1181, -0.7485],\n",
       "        [ 0.585 ,  0.1527, -1.5657, -0.5625]]),\n",
       " array([[-2,  2, -2,  2],\n",
       "        [ 2,  2, -2,  2],\n",
       "        [ 2,  2,  2, -2],\n",
       "        [ 2,  2, -2, -2]]))"
      ]
     },
     "execution_count": 123,
     "metadata": {},
     "output_type": "execute_result"
    }
   ],
   "source": [
    "F = np.random.randn(4, 4)\n",
    "\n",
    "F,np.where(F > 0, 2, -2)"
   ]
  },
  {
   "cell_type": "markdown",
   "metadata": {},
   "source": [
    "O una combinación de ambos. Por ejemplos, para modificar sólo las componentes positivas:"
   ]
  },
  {
   "cell_type": "code",
   "execution_count": 124,
   "metadata": {},
   "outputs": [
    {
     "data": {
      "text/plain": [
       "array([[-0.9975,  2.    , -0.1316,  2.    ],\n",
       "       [ 2.    ,  2.    , -0.1149,  2.    ],\n",
       "       [ 2.    ,  2.    ,  2.    , -0.7485],\n",
       "       [ 2.    ,  2.    , -1.5657, -0.5625]])"
      ]
     },
     "execution_count": 124,
     "metadata": {},
     "output_type": "execute_result"
    }
   ],
   "source": [
    "np.where(F > 0, 2, F) "
   ]
  },
  {
   "cell_type": "markdown",
   "metadata": {},
   "source": [
    "### Funciones estadísticas"
   ]
  },
  {
   "cell_type": "markdown",
   "metadata": {},
   "source": [
    "Algunos métodos para calcular indicadores estadísticos sobre los elementos de un array.\n",
    "\n",
    "* `np.sum`: suma de los componentes\n",
    "* `np.mean`: media aritmética\n",
    "* `np.std` y `np.var`: desviación estándar y varianza, respectivamente.\n",
    "* `np.max` y `np.min`: máximo y mínimo, resp.\n",
    "* `np.argmin` y `np.argmax`: índices de los mínimos o máximos elementos, respectivamente.\n",
    "* `np.cumsum`: sumas acumuladas de cada componente\n",
    "\n",
    "Estos métodos también se pueden usar como atributos de los arrays. Es decir, por ejemplo `A.sum()` o `A.mean()`.\n",
    "\n",
    "Veamos algunos ejemplos, generando en primer lugar un array con elementos generados aleatoriamente (siguiendo una distribución normal):"
   ]
  },
  {
   "cell_type": "code",
   "execution_count": 125,
   "metadata": {},
   "outputs": [
    {
     "data": {
      "text/plain": [
       "array([[-0.0327, -0.929 , -0.4826, -0.0363],\n",
       "       [ 1.0954,  0.9809, -0.5895,  1.5817],\n",
       "       [-0.5287,  0.457 ,  0.93  , -1.5693],\n",
       "       [-1.0225, -0.4028,  0.2205, -0.1934],\n",
       "       [ 0.6692, -1.649 , -2.2528, -1.1668]])"
      ]
     },
     "execution_count": 125,
     "metadata": {},
     "output_type": "execute_result"
    }
   ],
   "source": [
    "G = np.random.randn(5, 4)\n",
    "G"
   ]
  },
  {
   "cell_type": "code",
   "execution_count": 126,
   "metadata": {},
   "outputs": [
    {
     "data": {
      "text/plain": [
       "-4.9206947817910605"
      ]
     },
     "execution_count": 126,
     "metadata": {},
     "output_type": "execute_result"
    }
   ],
   "source": [
    "G.sum()"
   ]
  },
  {
   "cell_type": "code",
   "execution_count": 127,
   "metadata": {},
   "outputs": [
    {
     "data": {
      "text/plain": [
       "-0.24603473908955303"
      ]
     },
     "execution_count": 127,
     "metadata": {},
     "output_type": "execute_result"
    }
   ],
   "source": [
    "G.mean()"
   ]
  },
  {
   "cell_type": "code",
   "execution_count": 128,
   "metadata": {},
   "outputs": [
    {
     "data": {
      "text/plain": [
       "array([-0.0327, -0.9617, -1.4442, -1.4805, -0.3851,  0.5958,  0.0063,\n",
       "        1.588 ,  1.0593,  1.5163,  2.4463,  0.877 , -0.1455, -0.5483,\n",
       "       -0.3278, -0.5212,  0.1479, -1.5011, -3.7539, -4.9207])"
      ]
     },
     "execution_count": 128,
     "metadata": {},
     "output_type": "execute_result"
    }
   ],
   "source": [
    "G.cumsum() # por defecto, se aplana el array y se hace la suma acumulada"
   ]
  },
  {
   "cell_type": "markdown",
   "metadata": {},
   "source": [
    "Todas estas funciones se pueden aplicar a lo largo de un eje, usando el parámetro `axis`. Por ejemplos, para calcular las medias de cada fila (es decir, recorriendo en el sentido de las columnas), aplicamos `mean` por `axis=1`:"
   ]
  },
  {
   "cell_type": "code",
   "execution_count": 129,
   "metadata": {},
   "outputs": [
    {
     "data": {
      "text/plain": [
       "array([-0.3701,  0.7671, -0.1778, -0.3496, -1.0999])"
      ]
     },
     "execution_count": 129,
     "metadata": {},
     "output_type": "execute_result"
    }
   ],
   "source": [
    "G.mean(axis=1)"
   ]
  },
  {
   "cell_type": "markdown",
   "metadata": {},
   "source": [
    "Y la suma de cada columna (es decir, recorriendo las filas), con `sum` por `axis=0`:"
   ]
  },
  {
   "cell_type": "code",
   "execution_count": 130,
   "metadata": {},
   "outputs": [
    {
     "data": {
      "text/plain": [
       "array([ 0.1807, -1.5429, -2.1744, -1.3841])"
      ]
     },
     "execution_count": 130,
     "metadata": {},
     "output_type": "execute_result"
    }
   ],
   "source": [
    "G.sum(axis=0)"
   ]
  },
  {
   "cell_type": "markdown",
   "metadata": {},
   "source": [
    "Suma acumulada de cada columna:"
   ]
  },
  {
   "cell_type": "code",
   "execution_count": 131,
   "metadata": {},
   "outputs": [
    {
     "data": {
      "text/plain": [
       "array([[-0.0327, -0.929 , -0.4826, -0.0363],\n",
       "       [ 1.0627,  0.0519, -1.0721,  1.5454],\n",
       "       [ 0.534 ,  0.5089, -0.1421, -0.0238],\n",
       "       [-0.4885,  0.1061,  0.0784, -0.2172],\n",
       "       [ 0.1807, -1.5429, -2.1744, -1.3841]])"
      ]
     },
     "execution_count": 131,
     "metadata": {},
     "output_type": "execute_result"
    }
   ],
   "source": [
    "G.cumsum(axis=0)"
   ]
  },
  {
   "cell_type": "markdown",
   "metadata": {},
   "source": [
    "Dentro de cada columna, el número de fila donde se alcanza el mínimo se puede hacer asi:"
   ]
  },
  {
   "cell_type": "code",
   "execution_count": 132,
   "metadata": {},
   "outputs": [
    {
     "data": {
      "text/plain": [
       "(array([[-0.0327, -0.929 , -0.4826, -0.0363],\n",
       "        [ 1.0954,  0.9809, -0.5895,  1.5817],\n",
       "        [-0.5287,  0.457 ,  0.93  , -1.5693],\n",
       "        [-1.0225, -0.4028,  0.2205, -0.1934],\n",
       "        [ 0.6692, -1.649 , -2.2528, -1.1668]]),\n",
       " array([3, 4, 4, 2]))"
      ]
     },
     "execution_count": 132,
     "metadata": {},
     "output_type": "execute_result"
    }
   ],
   "source": [
    "G,G.argmin(axis=0)"
   ]
  },
  {
   "cell_type": "markdown",
   "metadata": {},
   "source": [
    "### Métodos para arrays booleanos"
   ]
  },
  {
   "cell_type": "code",
   "execution_count": 133,
   "metadata": {},
   "outputs": [
    {
     "data": {
      "text/plain": [
       "array([ 0.3536,  0.7021, -0.2746, -0.1391,  0.1077, -0.6065, -0.4171,\n",
       "       -0.017 , -1.2241, -1.8008,  1.6347,  0.989 ,  0.4579,  0.5552,\n",
       "        1.3067, -0.4406, -0.3014,  0.4988, -0.824 ,  1.3206,  0.508 ,\n",
       "       -0.6534,  0.187 , -0.3917, -0.2723, -0.0171,  0.6803,  0.6355,\n",
       "       -0.7572,  0.7181, -0.3043, -1.6778,  0.427 , -1.5637, -0.3675,\n",
       "        1.0459,  1.22  , -0.2477, -0.4162, -0.1167, -1.8448,  2.0687,\n",
       "       -0.777 ,  1.4402, -0.1106,  1.2274,  1.9208,  0.7464,  2.2247,\n",
       "       -0.6794])"
      ]
     },
     "execution_count": 133,
     "metadata": {},
     "output_type": "execute_result"
    }
   ],
   "source": [
    "H = np.random.randn(50)\n",
    "H"
   ]
  },
  {
   "cell_type": "markdown",
   "metadata": {},
   "source": [
    "Es bastante frecuente usar `sum` para ontar el número de veces que se cumple una condición en un array, aprovechando que `True` se identifica con 1 y `False` con 0:"
   ]
  },
  {
   "cell_type": "code",
   "execution_count": 134,
   "metadata": {},
   "outputs": [
    {
     "data": {
      "text/plain": [
       "24"
      ]
     },
     "execution_count": 134,
     "metadata": {},
     "output_type": "execute_result"
    }
   ],
   "source": [
    "(H > 0).sum() # Number of positive values"
   ]
  },
  {
   "cell_type": "markdown",
   "metadata": {},
   "source": [
    "Las funciones python `any` y `all` tienen también su correspondiente versión vectorizada. `any` se puede ver como un *or* generalizado, y `all`como un *and* generalizado:  "
   ]
  },
  {
   "cell_type": "code",
   "execution_count": 3,
   "metadata": {},
   "outputs": [
    {
     "ename": "TypeError",
     "evalue": "an integer is required",
     "output_type": "error",
     "traceback": [
      "\u001b[0;31m---------------------------------------------------------------------------\u001b[0m",
      "\u001b[0;31mTypeError\u001b[0m                                 Traceback (most recent call last)",
      "Cell \u001b[0;32mIn[3], line 2\u001b[0m\n\u001b[1;32m      1\u001b[0m bools \u001b[38;5;241m=\u001b[39m np\u001b[38;5;241m.\u001b[39marray([\u001b[38;5;28;01mFalse\u001b[39;00m, \u001b[38;5;28;01mFalse\u001b[39;00m, \u001b[38;5;28;01mTrue\u001b[39;00m, \u001b[38;5;28;01mFalse\u001b[39;00m])\n\u001b[0;32m----> 2\u001b[0m \u001b[43mbools\u001b[49m\u001b[38;5;241;43m.\u001b[39;49m\u001b[43many\u001b[49m\u001b[43m(\u001b[49m\u001b[38;5;28;43;01mFalse\u001b[39;49;00m\u001b[43m)\u001b[49m,bools\u001b[38;5;241m.\u001b[39mall()\n",
      "File \u001b[0;32m~/Library/Python/3.9/lib/python/site-packages/numpy/core/_methods.py:58\u001b[0m, in \u001b[0;36m_any\u001b[0;34m(a, axis, dtype, out, keepdims, where)\u001b[0m\n\u001b[1;32m     55\u001b[0m \u001b[38;5;28;01mdef\u001b[39;00m \u001b[38;5;21m_any\u001b[39m(a, axis\u001b[38;5;241m=\u001b[39m\u001b[38;5;28;01mNone\u001b[39;00m, dtype\u001b[38;5;241m=\u001b[39m\u001b[38;5;28;01mNone\u001b[39;00m, out\u001b[38;5;241m=\u001b[39m\u001b[38;5;28;01mNone\u001b[39;00m, keepdims\u001b[38;5;241m=\u001b[39m\u001b[38;5;28;01mFalse\u001b[39;00m, \u001b[38;5;241m*\u001b[39m, where\u001b[38;5;241m=\u001b[39m\u001b[38;5;28;01mTrue\u001b[39;00m):\n\u001b[1;32m     56\u001b[0m     \u001b[38;5;66;03m# Parsing keyword arguments is currently fairly slow, so avoid it for now\u001b[39;00m\n\u001b[1;32m     57\u001b[0m     \u001b[38;5;28;01mif\u001b[39;00m where \u001b[38;5;129;01mis\u001b[39;00m \u001b[38;5;28;01mTrue\u001b[39;00m:\n\u001b[0;32m---> 58\u001b[0m         \u001b[38;5;28;01mreturn\u001b[39;00m \u001b[43mumr_any\u001b[49m\u001b[43m(\u001b[49m\u001b[43ma\u001b[49m\u001b[43m,\u001b[49m\u001b[43m \u001b[49m\u001b[43maxis\u001b[49m\u001b[43m,\u001b[49m\u001b[43m \u001b[49m\u001b[43mdtype\u001b[49m\u001b[43m,\u001b[49m\u001b[43m \u001b[49m\u001b[43mout\u001b[49m\u001b[43m,\u001b[49m\u001b[43m \u001b[49m\u001b[43mkeepdims\u001b[49m\u001b[43m)\u001b[49m\n\u001b[1;32m     59\u001b[0m     \u001b[38;5;28;01mreturn\u001b[39;00m umr_any(a, axis, dtype, out, keepdims, where\u001b[38;5;241m=\u001b[39mwhere)\n",
      "\u001b[0;31mTypeError\u001b[0m: an integer is required"
     ]
    }
   ],
   "source": [
    "bools = np.array([False, False, True, False])\n",
    "bools.any(),bools.all()"
   ]
  },
  {
   "cell_type": "markdown",
   "metadata": {},
   "source": [
    "Podemos comprobar si se cumple *alguna vez* una condición entre los componentes de un array, o bien si se cumple *siempre* una condición:"
   ]
  },
  {
   "cell_type": "code",
   "execution_count": 136,
   "metadata": {},
   "outputs": [
    {
     "data": {
      "text/plain": [
       "True"
      ]
     },
     "execution_count": 136,
     "metadata": {},
     "output_type": "execute_result"
    }
   ],
   "source": [
    "np.any(H>0)"
   ]
  },
  {
   "cell_type": "code",
   "execution_count": 137,
   "metadata": {},
   "outputs": [
    {
     "data": {
      "text/plain": [
       "True"
      ]
     },
     "execution_count": 137,
     "metadata": {},
     "output_type": "execute_result"
    }
   ],
   "source": [
    "np.all(H< 10)"
   ]
  },
  {
   "cell_type": "code",
   "execution_count": 138,
   "metadata": {},
   "outputs": [
    {
     "data": {
      "text/plain": [
       "False"
      ]
     },
     "execution_count": 138,
     "metadata": {},
     "output_type": "execute_result"
    }
   ],
   "source": [
    "np.any(H > 15)"
   ]
  },
  {
   "cell_type": "code",
   "execution_count": 139,
   "metadata": {},
   "outputs": [
    {
     "data": {
      "text/plain": [
       "False"
      ]
     },
     "execution_count": 139,
     "metadata": {},
     "output_type": "execute_result"
    }
   ],
   "source": [
    "np.all(H >0)"
   ]
  },
  {
   "cell_type": "markdown",
   "metadata": {},
   "source": [
    "## Entrada y salida de arrays en ficheros"
   ]
  },
  {
   "cell_type": "markdown",
   "metadata": {},
   "source": [
    "Existen una serie de utilidades para guardar el contenido de un array en un fichero y recuperarlo más tarde. "
   ]
  },
  {
   "cell_type": "markdown",
   "metadata": {},
   "source": [
    "Las funciones `save` y `load` hacen esto. Los arrays se almacenan en archivos con extensión *npy*.  "
   ]
  },
  {
   "cell_type": "code",
   "execution_count": 140,
   "metadata": {},
   "outputs": [],
   "source": [
    "J = np.arange(10)\n",
    "np.save('un_array', J)"
   ]
  },
  {
   "cell_type": "code",
   "execution_count": 141,
   "metadata": {},
   "outputs": [
    {
     "data": {
      "text/plain": [
       "array([0, 1, 2, 3, 4, 5, 6, 7, 8, 9])"
      ]
     },
     "execution_count": 141,
     "metadata": {},
     "output_type": "execute_result"
    }
   ],
   "source": [
    "np.load('un_array.npy')"
   ]
  },
  {
   "cell_type": "markdown",
   "metadata": {},
   "source": [
    "Con `savez`, podemos guardar una serie de arrays en un archivo de extensión *npz*, asociados a una serie de claves. Por ejemplo:"
   ]
  },
  {
   "cell_type": "code",
   "execution_count": 142,
   "metadata": {},
   "outputs": [],
   "source": [
    "np.savez('array_archivo.npz', a=J, b=J**2)"
   ]
  },
  {
   "cell_type": "markdown",
   "metadata": {},
   "source": [
    "Cuando hacemos `load` sobre un archivo *npz*, cargamos un objeto de tipo diccionario, con el que podemos acceder (de manera perezosa) a los distintos arrays que se han almacenado:"
   ]
  },
  {
   "cell_type": "code",
   "execution_count": 143,
   "metadata": {},
   "outputs": [
    {
     "data": {
      "text/plain": [
       "array([ 0,  1,  4,  9, 16, 25, 36, 49, 64, 81])"
      ]
     },
     "execution_count": 143,
     "metadata": {},
     "output_type": "execute_result"
    }
   ],
   "source": [
    "arch = np.load('array_archivo.npz')\n",
    "arch['b']"
   ]
  },
  {
   "cell_type": "code",
   "execution_count": 144,
   "metadata": {},
   "outputs": [
    {
     "data": {
      "text/plain": [
       "array([0, 1, 2, 3, 4, 5, 6, 7, 8, 9])"
      ]
     },
     "execution_count": 144,
     "metadata": {},
     "output_type": "execute_result"
    }
   ],
   "source": [
    "arch['a']"
   ]
  },
  {
   "cell_type": "markdown",
   "metadata": {},
   "source": [
    "En caso de que fuera necesario, podríamos incluso guardar incluso los datos en formato comprimido con `savez_compressed`:"
   ]
  },
  {
   "cell_type": "code",
   "execution_count": 145,
   "metadata": {},
   "outputs": [],
   "source": [
    "np.savez_compressed('arrays_comprimidos.npz', a=arr, b=arr)"
   ]
  },
  {
   "cell_type": "code",
   "execution_count": 146,
   "metadata": {},
   "outputs": [],
   "source": [
    "!rm un_array.npy\n",
    "!rm array_archivo.npz\n",
    "!rm arrays_comprimidos.npz"
   ]
  },
  {
   "cell_type": "code",
   "execution_count": 147,
   "metadata": {},
   "outputs": [
    {
     "data": {
      "text/plain": [
       "(array([[ 0.7274, -0.8687, -1.2139, -0.4706],\n",
       "        [-0.9192, -0.8388,  0.4352, -0.5578],\n",
       "        [-0.5675, -0.3726, -0.9266,  1.7551]]),\n",
       " array([[0.6538, 0.1162, 0.    , 0.2503],\n",
       "        [0.0992, 0.1263, 0.5554, 0.221 ],\n",
       "        [0.2177, 0.2833, 0.0968, 1.    ]]))"
      ]
     },
     "execution_count": 147,
     "metadata": {},
     "output_type": "execute_result"
    }
   ],
   "source": [
    "m = np.random.randn(3,4)\n",
    "\n",
    "\n",
    "\n",
    "maximo = m.max()\n",
    "\n",
    "\n",
    "\n",
    "minimo = m.min()\n",
    "\n",
    "\n",
    "\n",
    "normalizada = (m-minimo) / (maximo - minimo)\n",
    "\n",
    "\n",
    "\n",
    "m,normalizada"
   ]
  },
  {
   "cell_type": "code",
   "execution_count": null,
   "metadata": {},
   "outputs": [],
   "source": []
  }
 ],
 "metadata": {
  "kernelspec": {
   "display_name": "Python 3",
   "language": "python",
   "name": "python3"
  },
  "language_info": {
   "codemirror_mode": {
    "name": "ipython",
    "version": 3
   },
   "file_extension": ".py",
   "mimetype": "text/x-python",
   "name": "python",
   "nbconvert_exporter": "python",
   "pygments_lexer": "ipython3",
   "version": "3.11.8"
  }
 },
 "nbformat": 4,
 "nbformat_minor": 1
}
